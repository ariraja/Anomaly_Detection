{
 "cells": [
  {
   "cell_type": "code",
   "execution_count": 1,
   "id": "ebdf7599",
   "metadata": {},
   "outputs": [],
   "source": [
    "import torch\n",
    "import numpy as np\n",
    "import pandas as pd\n",
    "import matplotlib.pyplot as plt \n",
    "import seaborn as sns\n",
    "from sklearn.preprocessing import RobustScaler, LabelEncoder"
   ]
  },
  {
   "cell_type": "code",
   "execution_count": 2,
   "id": "a36a7e95",
   "metadata": {},
   "outputs": [
    {
     "data": {
      "text/html": [
       "<div>\n",
       "<style scoped>\n",
       "    .dataframe tbody tr th:only-of-type {\n",
       "        vertical-align: middle;\n",
       "    }\n",
       "\n",
       "    .dataframe tbody tr th {\n",
       "        vertical-align: top;\n",
       "    }\n",
       "\n",
       "    .dataframe thead th {\n",
       "        text-align: right;\n",
       "    }\n",
       "</style>\n",
       "<table border=\"1\" class=\"dataframe\">\n",
       "  <thead>\n",
       "    <tr style=\"text-align: right;\">\n",
       "      <th></th>\n",
       "      <th>_id</th>\n",
       "      <th>id</th>\n",
       "      <th>externalId</th>\n",
       "      <th>name</th>\n",
       "      <th>pfVehicleId</th>\n",
       "      <th>type</th>\n",
       "      <th>value</th>\n",
       "      <th>dateTime</th>\n",
       "      <th>providerType</th>\n",
       "      <th>metaDataProvider</th>\n",
       "    </tr>\n",
       "  </thead>\n",
       "  <tbody>\n",
       "    <tr>\n",
       "      <th>0</th>\n",
       "      <td>6063834e304a3d000e1cf0f2</td>\n",
       "      <td>c93b15d6-e7ce-4e82-8d64-5ebb1a50b3a5</td>\n",
       "      <td>212014918914083</td>\n",
       "      <td>PF-65062</td>\n",
       "      <td>PF-65062</td>\n",
       "      <td>batteryMilliVolts</td>\n",
       "      <td>5412.0</td>\n",
       "      <td>2020-07-31T02:21:40Z</td>\n",
       "      <td>Samsara</td>\n",
       "      <td>{\"batteryMilliVolts\":{\"time\":\"2020-07-31T02:21...</td>\n",
       "    </tr>\n",
       "    <tr>\n",
       "      <th>1</th>\n",
       "      <td>6063834e304a3d000e1cf0f9</td>\n",
       "      <td>9e77fdd9-c7ad-42f7-b703-f040b2eb5007</td>\n",
       "      <td>212014918915100</td>\n",
       "      <td>ST-14867</td>\n",
       "      <td>ST-14867</td>\n",
       "      <td>batteryMilliVolts</td>\n",
       "      <td>25864.0</td>\n",
       "      <td>2021-03-30T19:18:24Z</td>\n",
       "      <td>Samsara</td>\n",
       "      <td>{\"batteryMilliVolts\":{\"time\":\"2021-03-30T19:18...</td>\n",
       "    </tr>\n",
       "    <tr>\n",
       "      <th>2</th>\n",
       "      <td>6063834e304a3d000e1cf10d</td>\n",
       "      <td>b7cf79a0-7c2e-42fc-9955-b34dc998670b</td>\n",
       "      <td>212014918915223</td>\n",
       "      <td>PF-78663</td>\n",
       "      <td>PF-78663</td>\n",
       "      <td>batteryMilliVolts</td>\n",
       "      <td>1211.0</td>\n",
       "      <td>2021-03-30T10:51:17Z</td>\n",
       "      <td>Samsara</td>\n",
       "      <td>{\"batteryMilliVolts\":{\"time\":\"2021-03-30T10:51...</td>\n",
       "    </tr>\n",
       "    <tr>\n",
       "      <th>3</th>\n",
       "      <td>6063834e304a3d000e1cf112</td>\n",
       "      <td>86382b2f-7315-40a1-aa8e-eea795191f85</td>\n",
       "      <td>844424930157962</td>\n",
       "      <td>98729</td>\n",
       "      <td>98729</td>\n",
       "      <td>batteryMilliVolts</td>\n",
       "      <td>14469.0</td>\n",
       "      <td>2021-03-30T19:59:34Z</td>\n",
       "      <td>Samsara</td>\n",
       "      <td>{\"batteryMilliVolts\":{\"time\":\"2021-03-30T19:59...</td>\n",
       "    </tr>\n",
       "    <tr>\n",
       "      <th>4</th>\n",
       "      <td>6063834e304a3d000e1cf103</td>\n",
       "      <td>d124506b-59f1-4612-9df5-9797a964a040</td>\n",
       "      <td>212014918886624</td>\n",
       "      <td>PF-80093</td>\n",
       "      <td>PF-80093</td>\n",
       "      <td>batteryMilliVolts</td>\n",
       "      <td>12525.0</td>\n",
       "      <td>2021-03-30T19:13:39Z</td>\n",
       "      <td>Samsara</td>\n",
       "      <td>{\"batteryMilliVolts\":{\"time\":\"2021-03-30T19:13...</td>\n",
       "    </tr>\n",
       "    <tr>\n",
       "      <th>...</th>\n",
       "      <td>...</td>\n",
       "      <td>...</td>\n",
       "      <td>...</td>\n",
       "      <td>...</td>\n",
       "      <td>...</td>\n",
       "      <td>...</td>\n",
       "      <td>...</td>\n",
       "      <td>...</td>\n",
       "      <td>...</td>\n",
       "      <td>...</td>\n",
       "    </tr>\n",
       "    <tr>\n",
       "      <th>3574452</th>\n",
       "      <td>6075ed59c577c4000c603916</td>\n",
       "      <td>da2a2a9d-c527-454d-b1e0-f4fdbd6480c8</td>\n",
       "      <td>212014918886645</td>\n",
       "      <td>PF-83980</td>\n",
       "      <td>PF-83980</td>\n",
       "      <td>batteryMilliVolts</td>\n",
       "      <td>12835.0</td>\n",
       "      <td>2021-04-13T19:03:17Z</td>\n",
       "      <td>Samsara</td>\n",
       "      <td>{\"batteryMilliVolts\":{\"time\":\"2021-04-13T19:03...</td>\n",
       "    </tr>\n",
       "    <tr>\n",
       "      <th>3574453</th>\n",
       "      <td>6075ed59c577c4000c603917</td>\n",
       "      <td>da2a2a9d-c527-454d-b1e0-f4fdbd6480c8</td>\n",
       "      <td>212014918886645</td>\n",
       "      <td>PF-83980</td>\n",
       "      <td>PF-83980</td>\n",
       "      <td>batteryMilliVolts</td>\n",
       "      <td>12839.0</td>\n",
       "      <td>2021-04-13T18:53:15Z</td>\n",
       "      <td>Samsara</td>\n",
       "      <td>{\"batteryMilliVolts\":{\"time\":\"2021-04-13T18:53...</td>\n",
       "    </tr>\n",
       "    <tr>\n",
       "      <th>3574454</th>\n",
       "      <td>6075ed59c577c4000c603918</td>\n",
       "      <td>da2a2a9d-c527-454d-b1e0-f4fdbd6480c8</td>\n",
       "      <td>212014918886645</td>\n",
       "      <td>PF-83980</td>\n",
       "      <td>PF-83980</td>\n",
       "      <td>batteryMilliVolts</td>\n",
       "      <td>12837.0</td>\n",
       "      <td>2021-04-13T18:55:17Z</td>\n",
       "      <td>Samsara</td>\n",
       "      <td>{\"batteryMilliVolts\":{\"time\":\"2021-04-13T18:55...</td>\n",
       "    </tr>\n",
       "    <tr>\n",
       "      <th>3574455</th>\n",
       "      <td>6075ed59c577c4000c603919</td>\n",
       "      <td>da2a2a9d-c527-454d-b1e0-f4fdbd6480c8</td>\n",
       "      <td>212014918886645</td>\n",
       "      <td>PF-83980</td>\n",
       "      <td>PF-83980</td>\n",
       "      <td>batteryMilliVolts</td>\n",
       "      <td>12833.0</td>\n",
       "      <td>2021-04-13T18:51:15Z</td>\n",
       "      <td>Samsara</td>\n",
       "      <td>{\"batteryMilliVolts\":{\"time\":\"2021-04-13T18:51...</td>\n",
       "    </tr>\n",
       "    <tr>\n",
       "      <th>3574456</th>\n",
       "      <td>6075ed59c577c4000c60391c</td>\n",
       "      <td>da2a2a9d-c527-454d-b1e0-f4fdbd6480c8</td>\n",
       "      <td>212014918886645</td>\n",
       "      <td>PF-83980</td>\n",
       "      <td>PF-83980</td>\n",
       "      <td>batteryMilliVolts</td>\n",
       "      <td>12837.0</td>\n",
       "      <td>2021-04-13T18:45:13Z</td>\n",
       "      <td>Samsara</td>\n",
       "      <td>{\"batteryMilliVolts\":{\"time\":\"2021-04-13T18:45...</td>\n",
       "    </tr>\n",
       "  </tbody>\n",
       "</table>\n",
       "<p>3574457 rows × 10 columns</p>\n",
       "</div>"
      ],
      "text/plain": [
       "                              _id                                    id  \\\n",
       "0        6063834e304a3d000e1cf0f2  c93b15d6-e7ce-4e82-8d64-5ebb1a50b3a5   \n",
       "1        6063834e304a3d000e1cf0f9  9e77fdd9-c7ad-42f7-b703-f040b2eb5007   \n",
       "2        6063834e304a3d000e1cf10d  b7cf79a0-7c2e-42fc-9955-b34dc998670b   \n",
       "3        6063834e304a3d000e1cf112  86382b2f-7315-40a1-aa8e-eea795191f85   \n",
       "4        6063834e304a3d000e1cf103  d124506b-59f1-4612-9df5-9797a964a040   \n",
       "...                           ...                                   ...   \n",
       "3574452  6075ed59c577c4000c603916  da2a2a9d-c527-454d-b1e0-f4fdbd6480c8   \n",
       "3574453  6075ed59c577c4000c603917  da2a2a9d-c527-454d-b1e0-f4fdbd6480c8   \n",
       "3574454  6075ed59c577c4000c603918  da2a2a9d-c527-454d-b1e0-f4fdbd6480c8   \n",
       "3574455  6075ed59c577c4000c603919  da2a2a9d-c527-454d-b1e0-f4fdbd6480c8   \n",
       "3574456  6075ed59c577c4000c60391c  da2a2a9d-c527-454d-b1e0-f4fdbd6480c8   \n",
       "\n",
       "              externalId      name pfVehicleId               type    value  \\\n",
       "0        212014918914083  PF-65062    PF-65062  batteryMilliVolts   5412.0   \n",
       "1        212014918915100  ST-14867    ST-14867  batteryMilliVolts  25864.0   \n",
       "2        212014918915223  PF-78663    PF-78663  batteryMilliVolts   1211.0   \n",
       "3        844424930157962     98729       98729  batteryMilliVolts  14469.0   \n",
       "4        212014918886624  PF-80093    PF-80093  batteryMilliVolts  12525.0   \n",
       "...                  ...       ...         ...                ...      ...   \n",
       "3574452  212014918886645  PF-83980    PF-83980  batteryMilliVolts  12835.0   \n",
       "3574453  212014918886645  PF-83980    PF-83980  batteryMilliVolts  12839.0   \n",
       "3574454  212014918886645  PF-83980    PF-83980  batteryMilliVolts  12837.0   \n",
       "3574455  212014918886645  PF-83980    PF-83980  batteryMilliVolts  12833.0   \n",
       "3574456  212014918886645  PF-83980    PF-83980  batteryMilliVolts  12837.0   \n",
       "\n",
       "                     dateTime providerType  \\\n",
       "0        2020-07-31T02:21:40Z      Samsara   \n",
       "1        2021-03-30T19:18:24Z      Samsara   \n",
       "2        2021-03-30T10:51:17Z      Samsara   \n",
       "3        2021-03-30T19:59:34Z      Samsara   \n",
       "4        2021-03-30T19:13:39Z      Samsara   \n",
       "...                       ...          ...   \n",
       "3574452  2021-04-13T19:03:17Z      Samsara   \n",
       "3574453  2021-04-13T18:53:15Z      Samsara   \n",
       "3574454  2021-04-13T18:55:17Z      Samsara   \n",
       "3574455  2021-04-13T18:51:15Z      Samsara   \n",
       "3574456  2021-04-13T18:45:13Z      Samsara   \n",
       "\n",
       "                                          metaDataProvider  \n",
       "0        {\"batteryMilliVolts\":{\"time\":\"2020-07-31T02:21...  \n",
       "1        {\"batteryMilliVolts\":{\"time\":\"2021-03-30T19:18...  \n",
       "2        {\"batteryMilliVolts\":{\"time\":\"2021-03-30T10:51...  \n",
       "3        {\"batteryMilliVolts\":{\"time\":\"2021-03-30T19:59...  \n",
       "4        {\"batteryMilliVolts\":{\"time\":\"2021-03-30T19:13...  \n",
       "...                                                    ...  \n",
       "3574452  {\"batteryMilliVolts\":{\"time\":\"2021-04-13T19:03...  \n",
       "3574453  {\"batteryMilliVolts\":{\"time\":\"2021-04-13T18:53...  \n",
       "3574454  {\"batteryMilliVolts\":{\"time\":\"2021-04-13T18:55...  \n",
       "3574455  {\"batteryMilliVolts\":{\"time\":\"2021-04-13T18:51...  \n",
       "3574456  {\"batteryMilliVolts\":{\"time\":\"2021-04-13T18:45...  \n",
       "\n",
       "[3574457 rows x 10 columns]"
      ]
     },
     "execution_count": 2,
     "metadata": {},
     "output_type": "execute_result"
    }
   ],
   "source": [
    "data = pd.read_csv(r'C:\\Users\\NGH\\Documents\\Stage Ari\\ArkeUp\\20210610_pf-envtest_batteryMilliVolts.csv',sep=',',on_bad_lines='skip',chunksize=3574457)\n",
    "data = pd.DataFrame(data.get_chunk(3574457))\n",
    "df = data.copy()\n",
    "df"
   ]
  },
  {
   "cell_type": "code",
   "execution_count": 3,
   "id": "285e085c",
   "metadata": {},
   "outputs": [
    {
     "data": {
      "text/html": [
       "<div>\n",
       "<style scoped>\n",
       "    .dataframe tbody tr th:only-of-type {\n",
       "        vertical-align: middle;\n",
       "    }\n",
       "\n",
       "    .dataframe tbody tr th {\n",
       "        vertical-align: top;\n",
       "    }\n",
       "\n",
       "    .dataframe thead th {\n",
       "        text-align: right;\n",
       "    }\n",
       "</style>\n",
       "<table border=\"1\" class=\"dataframe\">\n",
       "  <thead>\n",
       "    <tr style=\"text-align: right;\">\n",
       "      <th></th>\n",
       "      <th>_id</th>\n",
       "      <th>subject</th>\n",
       "      <th>description</th>\n",
       "      <th>type</th>\n",
       "      <th>externalId</th>\n",
       "      <th>name</th>\n",
       "      <th>time</th>\n",
       "      <th>code</th>\n",
       "      <th>status</th>\n",
       "      <th>nbOccurrence</th>\n",
       "      <th>lastOccurenceTime</th>\n",
       "      <th>createCaseResultDto._id</th>\n",
       "      <th>createCaseResultDto.success</th>\n",
       "      <th>createCaseResultDto.errors</th>\n",
       "      <th>_class</th>\n",
       "    </tr>\n",
       "  </thead>\n",
       "  <tbody>\n",
       "    <tr>\n",
       "      <th>0</th>\n",
       "      <td>ffe4a402-87c4-4555-b794-ef09a2543f97</td>\n",
       "      <td>Tension batterie faible sur le parc PF-46590 (...</td>\n",
       "      <td>Tension batterie : 12867.0 milliVolts - Parc :...</td>\n",
       "      <td>LowBatteryVoltage</td>\n",
       "      <td>212014918914482</td>\n",
       "      <td>PF-46590</td>\n",
       "      <td>2021-03-31T10:51:41Z</td>\n",
       "      <td>LowBatteryVoltage</td>\n",
       "      <td>CLOSED</td>\n",
       "      <td>2</td>\n",
       "      <td>2021-03-31T11:54:15Z</td>\n",
       "      <td>5001x00000C5MAkAAN</td>\n",
       "      <td>True</td>\n",
       "      <td>[  ]</td>\n",
       "      <td>com.arkeup.data_iot.donnee.domainobject.AlertN...</td>\n",
       "    </tr>\n",
       "    <tr>\n",
       "      <th>1</th>\n",
       "      <td>bc73919d-89af-417c-a209-f67a97fac9e7</td>\n",
       "      <td>Tension batterie faible sur le parc PF-86135 (...</td>\n",
       "      <td>Tension batterie : 785.0 milliVolts - Parc : P...</td>\n",
       "      <td>LowBatteryVoltage</td>\n",
       "      <td>212014918915391</td>\n",
       "      <td>PF-86135</td>\n",
       "      <td>2021-03-31T10:57:46Z</td>\n",
       "      <td>LowBatteryVoltage</td>\n",
       "      <td>CLOSED</td>\n",
       "      <td>2</td>\n",
       "      <td>2021-04-01T10:38:40Z</td>\n",
       "      <td>5001x00000C5QSNAA3</td>\n",
       "      <td>True</td>\n",
       "      <td>[  ]</td>\n",
       "      <td>com.arkeup.data_iot.donnee.domainobject.AlertN...</td>\n",
       "    </tr>\n",
       "    <tr>\n",
       "      <th>2</th>\n",
       "      <td>f66cf532-01e6-45e7-9d90-ec996ac65c38</td>\n",
       "      <td>Tension batterie faible sur le parc PF-85403 (...</td>\n",
       "      <td>Tension batterie : 23624.0 milliVolts - Parc :...</td>\n",
       "      <td>LowBatteryVoltage</td>\n",
       "      <td>212014918914853</td>\n",
       "      <td>PF-85403</td>\n",
       "      <td>2021-03-31T10:51:57Z</td>\n",
       "      <td>LowBatteryVoltage</td>\n",
       "      <td>CLOSED</td>\n",
       "      <td>2</td>\n",
       "      <td>2021-03-31T11:56:21Z</td>\n",
       "      <td>5001x00000C5MB4AAN</td>\n",
       "      <td>True</td>\n",
       "      <td>[  ]</td>\n",
       "      <td>com.arkeup.data_iot.donnee.domainobject.AlertN...</td>\n",
       "    </tr>\n",
       "    <tr>\n",
       "      <th>3</th>\n",
       "      <td>c63333b6-c1f0-4844-a6d3-96da5e7dd8ca</td>\n",
       "      <td>Tension batterie faible sur le parc PF-64767 (...</td>\n",
       "      <td>Tension batterie : 23630.0 milliVolts - Parc :...</td>\n",
       "      <td>LowBatteryVoltage</td>\n",
       "      <td>212014918914474</td>\n",
       "      <td>PF-64767</td>\n",
       "      <td>2021-03-31T11:03:11Z</td>\n",
       "      <td>LowBatteryVoltage</td>\n",
       "      <td>PROCESSING</td>\n",
       "      <td>2</td>\n",
       "      <td>2021-03-31T12:07:39Z</td>\n",
       "      <td>5001x00000C5MAuAAN</td>\n",
       "      <td>True</td>\n",
       "      <td>[  ]</td>\n",
       "      <td>com.arkeup.data_iot.donnee.domainobject.AlertN...</td>\n",
       "    </tr>\n",
       "    <tr>\n",
       "      <th>4</th>\n",
       "      <td>9027f222-15b1-4066-b6a3-fbd514d9f912</td>\n",
       "      <td>Tension batterie faible sur le parc PF-86128 (...</td>\n",
       "      <td>Tension batterie : 880.0 milliVolts - Parc : P...</td>\n",
       "      <td>LowBatteryVoltage</td>\n",
       "      <td>212014918915230</td>\n",
       "      <td>PF-86128</td>\n",
       "      <td>2021-03-31T11:06:24Z</td>\n",
       "      <td>LowBatteryVoltage</td>\n",
       "      <td>CLOSED</td>\n",
       "      <td>2</td>\n",
       "      <td>2021-04-01T10:54:15Z</td>\n",
       "      <td>5001x00000C5QSDAA3</td>\n",
       "      <td>True</td>\n",
       "      <td>[  ]</td>\n",
       "      <td>com.arkeup.data_iot.donnee.domainobject.AlertN...</td>\n",
       "    </tr>\n",
       "    <tr>\n",
       "      <th>...</th>\n",
       "      <td>...</td>\n",
       "      <td>...</td>\n",
       "      <td>...</td>\n",
       "      <td>...</td>\n",
       "      <td>...</td>\n",
       "      <td>...</td>\n",
       "      <td>...</td>\n",
       "      <td>...</td>\n",
       "      <td>...</td>\n",
       "      <td>...</td>\n",
       "      <td>...</td>\n",
       "      <td>...</td>\n",
       "      <td>...</td>\n",
       "      <td>...</td>\n",
       "      <td>...</td>\n",
       "    </tr>\n",
       "    <tr>\n",
       "      <th>98</th>\n",
       "      <td>4de78df4-cc8a-4ff2-99cd-c4abed4e6988</td>\n",
       "      <td>Tension batterie faible sur le parc PF-86055 (...</td>\n",
       "      <td>Tension batterie : 0.0 milliVolts - Parc : PF-...</td>\n",
       "      <td>LowBatteryVoltage</td>\n",
       "      <td>844424930162511</td>\n",
       "      <td>PF-86055</td>\n",
       "      <td>2021-04-30T15:47:11Z</td>\n",
       "      <td>LowBatteryVoltage</td>\n",
       "      <td>CLOSED</td>\n",
       "      <td>2</td>\n",
       "      <td>2021-04-30T15:47:11Z</td>\n",
       "      <td>5001x00000C7SHuAAN</td>\n",
       "      <td>True</td>\n",
       "      <td>[  ]</td>\n",
       "      <td>com.arkeup.data_iot.donnee.domainobject.AlertN...</td>\n",
       "    </tr>\n",
       "    <tr>\n",
       "      <th>99</th>\n",
       "      <td>8ff41406-1d11-4f0e-b826-809fb8eaa4c9</td>\n",
       "      <td>Tension batterie faible sur le parc PF-90842 (...</td>\n",
       "      <td>Tension batterie : 0.0 milliVolts - Parc : PF-...</td>\n",
       "      <td>LowBatteryVoltage</td>\n",
       "      <td>844424930162429</td>\n",
       "      <td>PF-90842</td>\n",
       "      <td>2021-04-30T15:42:53Z</td>\n",
       "      <td>LowBatteryVoltage</td>\n",
       "      <td>CLOSED</td>\n",
       "      <td>2</td>\n",
       "      <td>2021-04-30T15:42:53Z</td>\n",
       "      <td>5001x00000C7SHzAAN</td>\n",
       "      <td>True</td>\n",
       "      <td>[  ]</td>\n",
       "      <td>com.arkeup.data_iot.donnee.domainobject.AlertN...</td>\n",
       "    </tr>\n",
       "    <tr>\n",
       "      <th>100</th>\n",
       "      <td>19e7d8fc-0c05-4579-8874-e6748d5a6dd6</td>\n",
       "      <td>Tension batterie faible sur le parc PF-90843 (...</td>\n",
       "      <td>Tension batterie : 0.0 milliVolts - Parc : PF-...</td>\n",
       "      <td>LowBatteryVoltage</td>\n",
       "      <td>844424930162465</td>\n",
       "      <td>PF-90843</td>\n",
       "      <td>2021-04-30T15:50:23Z</td>\n",
       "      <td>LowBatteryVoltage</td>\n",
       "      <td>CLOSED</td>\n",
       "      <td>2</td>\n",
       "      <td>2021-04-30T15:50:23Z</td>\n",
       "      <td>5001x00000C7SI4AAN</td>\n",
       "      <td>True</td>\n",
       "      <td>[  ]</td>\n",
       "      <td>com.arkeup.data_iot.donnee.domainobject.AlertN...</td>\n",
       "    </tr>\n",
       "    <tr>\n",
       "      <th>101</th>\n",
       "      <td>aeaa5134-55be-440c-b944-6f73147ba5ff</td>\n",
       "      <td>Tension batterie faible sur le parc PF-86054 (...</td>\n",
       "      <td>Tension batterie : 0.0 milliVolts - Parc : PF-...</td>\n",
       "      <td>LowBatteryVoltage</td>\n",
       "      <td>844424930162416</td>\n",
       "      <td>PF-86054</td>\n",
       "      <td>2021-04-30T15:56:57Z</td>\n",
       "      <td>LowBatteryVoltage</td>\n",
       "      <td>CLOSED</td>\n",
       "      <td>2</td>\n",
       "      <td>2021-04-30T15:56:57Z</td>\n",
       "      <td>5001x00000C7SI9AAN</td>\n",
       "      <td>True</td>\n",
       "      <td>[  ]</td>\n",
       "      <td>com.arkeup.data_iot.donnee.domainobject.AlertN...</td>\n",
       "    </tr>\n",
       "    <tr>\n",
       "      <th>102</th>\n",
       "      <td>d264cfaf-25a5-4f23-aee6-5b44c8737cdb</td>\n",
       "      <td>Tension batterie faible sur le parc PF-86056 (...</td>\n",
       "      <td>Tension batterie : 0.0 milliVolts - Parc : PF-...</td>\n",
       "      <td>LowBatteryVoltage</td>\n",
       "      <td>844424930162452</td>\n",
       "      <td>PF-86056</td>\n",
       "      <td>2021-04-30T19:57:20Z</td>\n",
       "      <td>LowBatteryVoltage</td>\n",
       "      <td>CLOSED</td>\n",
       "      <td>2</td>\n",
       "      <td>2021-04-30T19:57:20Z</td>\n",
       "      <td>5001x00000C7SnMAAV</td>\n",
       "      <td>True</td>\n",
       "      <td>[  ]</td>\n",
       "      <td>com.arkeup.data_iot.donnee.domainobject.AlertN...</td>\n",
       "    </tr>\n",
       "  </tbody>\n",
       "</table>\n",
       "<p>103 rows × 15 columns</p>\n",
       "</div>"
      ],
      "text/plain": [
       "                                      _id  \\\n",
       "0    ffe4a402-87c4-4555-b794-ef09a2543f97   \n",
       "1    bc73919d-89af-417c-a209-f67a97fac9e7   \n",
       "2    f66cf532-01e6-45e7-9d90-ec996ac65c38   \n",
       "3    c63333b6-c1f0-4844-a6d3-96da5e7dd8ca   \n",
       "4    9027f222-15b1-4066-b6a3-fbd514d9f912   \n",
       "..                                    ...   \n",
       "98   4de78df4-cc8a-4ff2-99cd-c4abed4e6988   \n",
       "99   8ff41406-1d11-4f0e-b826-809fb8eaa4c9   \n",
       "100  19e7d8fc-0c05-4579-8874-e6748d5a6dd6   \n",
       "101  aeaa5134-55be-440c-b944-6f73147ba5ff   \n",
       "102  d264cfaf-25a5-4f23-aee6-5b44c8737cdb   \n",
       "\n",
       "                                               subject  \\\n",
       "0    Tension batterie faible sur le parc PF-46590 (...   \n",
       "1    Tension batterie faible sur le parc PF-86135 (...   \n",
       "2    Tension batterie faible sur le parc PF-85403 (...   \n",
       "3    Tension batterie faible sur le parc PF-64767 (...   \n",
       "4    Tension batterie faible sur le parc PF-86128 (...   \n",
       "..                                                 ...   \n",
       "98   Tension batterie faible sur le parc PF-86055 (...   \n",
       "99   Tension batterie faible sur le parc PF-90842 (...   \n",
       "100  Tension batterie faible sur le parc PF-90843 (...   \n",
       "101  Tension batterie faible sur le parc PF-86054 (...   \n",
       "102  Tension batterie faible sur le parc PF-86056 (...   \n",
       "\n",
       "                                           description               type  \\\n",
       "0    Tension batterie : 12867.0 milliVolts - Parc :...  LowBatteryVoltage   \n",
       "1    Tension batterie : 785.0 milliVolts - Parc : P...  LowBatteryVoltage   \n",
       "2    Tension batterie : 23624.0 milliVolts - Parc :...  LowBatteryVoltage   \n",
       "3    Tension batterie : 23630.0 milliVolts - Parc :...  LowBatteryVoltage   \n",
       "4    Tension batterie : 880.0 milliVolts - Parc : P...  LowBatteryVoltage   \n",
       "..                                                 ...                ...   \n",
       "98   Tension batterie : 0.0 milliVolts - Parc : PF-...  LowBatteryVoltage   \n",
       "99   Tension batterie : 0.0 milliVolts - Parc : PF-...  LowBatteryVoltage   \n",
       "100  Tension batterie : 0.0 milliVolts - Parc : PF-...  LowBatteryVoltage   \n",
       "101  Tension batterie : 0.0 milliVolts - Parc : PF-...  LowBatteryVoltage   \n",
       "102  Tension batterie : 0.0 milliVolts - Parc : PF-...  LowBatteryVoltage   \n",
       "\n",
       "          externalId      name                  time               code  \\\n",
       "0    212014918914482  PF-46590  2021-03-31T10:51:41Z  LowBatteryVoltage   \n",
       "1    212014918915391  PF-86135  2021-03-31T10:57:46Z  LowBatteryVoltage   \n",
       "2    212014918914853  PF-85403  2021-03-31T10:51:57Z  LowBatteryVoltage   \n",
       "3    212014918914474  PF-64767  2021-03-31T11:03:11Z  LowBatteryVoltage   \n",
       "4    212014918915230  PF-86128  2021-03-31T11:06:24Z  LowBatteryVoltage   \n",
       "..               ...       ...                   ...                ...   \n",
       "98   844424930162511  PF-86055  2021-04-30T15:47:11Z  LowBatteryVoltage   \n",
       "99   844424930162429  PF-90842  2021-04-30T15:42:53Z  LowBatteryVoltage   \n",
       "100  844424930162465  PF-90843  2021-04-30T15:50:23Z  LowBatteryVoltage   \n",
       "101  844424930162416  PF-86054  2021-04-30T15:56:57Z  LowBatteryVoltage   \n",
       "102  844424930162452  PF-86056  2021-04-30T19:57:20Z  LowBatteryVoltage   \n",
       "\n",
       "         status  nbOccurrence     lastOccurenceTime createCaseResultDto._id  \\\n",
       "0        CLOSED             2  2021-03-31T11:54:15Z      5001x00000C5MAkAAN   \n",
       "1        CLOSED             2  2021-04-01T10:38:40Z      5001x00000C5QSNAA3   \n",
       "2        CLOSED             2  2021-03-31T11:56:21Z      5001x00000C5MB4AAN   \n",
       "3    PROCESSING             2  2021-03-31T12:07:39Z      5001x00000C5MAuAAN   \n",
       "4        CLOSED             2  2021-04-01T10:54:15Z      5001x00000C5QSDAA3   \n",
       "..          ...           ...                   ...                     ...   \n",
       "98       CLOSED             2  2021-04-30T15:47:11Z      5001x00000C7SHuAAN   \n",
       "99       CLOSED             2  2021-04-30T15:42:53Z      5001x00000C7SHzAAN   \n",
       "100      CLOSED             2  2021-04-30T15:50:23Z      5001x00000C7SI4AAN   \n",
       "101      CLOSED             2  2021-04-30T15:56:57Z      5001x00000C7SI9AAN   \n",
       "102      CLOSED             2  2021-04-30T19:57:20Z      5001x00000C7SnMAAV   \n",
       "\n",
       "     createCaseResultDto.success createCaseResultDto.errors  \\\n",
       "0                           True                       [  ]   \n",
       "1                           True                       [  ]   \n",
       "2                           True                       [  ]   \n",
       "3                           True                       [  ]   \n",
       "4                           True                       [  ]   \n",
       "..                           ...                        ...   \n",
       "98                          True                       [  ]   \n",
       "99                          True                       [  ]   \n",
       "100                         True                       [  ]   \n",
       "101                         True                       [  ]   \n",
       "102                         True                       [  ]   \n",
       "\n",
       "                                                _class  \n",
       "0    com.arkeup.data_iot.donnee.domainobject.AlertN...  \n",
       "1    com.arkeup.data_iot.donnee.domainobject.AlertN...  \n",
       "2    com.arkeup.data_iot.donnee.domainobject.AlertN...  \n",
       "3    com.arkeup.data_iot.donnee.domainobject.AlertN...  \n",
       "4    com.arkeup.data_iot.donnee.domainobject.AlertN...  \n",
       "..                                                 ...  \n",
       "98   com.arkeup.data_iot.donnee.domainobject.AlertN...  \n",
       "99   com.arkeup.data_iot.donnee.domainobject.AlertN...  \n",
       "100  com.arkeup.data_iot.donnee.domainobject.AlertN...  \n",
       "101  com.arkeup.data_iot.donnee.domainobject.AlertN...  \n",
       "102  com.arkeup.data_iot.donnee.domainobject.AlertN...  \n",
       "\n",
       "[103 rows x 15 columns]"
      ]
     },
     "execution_count": 3,
     "metadata": {},
     "output_type": "execute_result"
    }
   ],
   "source": [
    "alert_data = pd.read_csv(r'C:\\Users\\NGH\\Documents\\Stage Ari\\ArkeUp\\20210610_pf-envtest_alertNotification.csv',sep=',',on_bad_lines='skip')\n",
    "alert_df = alert_data.copy()\n",
    "alert_df"
   ]
  },
  {
   "cell_type": "markdown",
   "id": "fd0c625d",
   "metadata": {},
   "source": [
    "# Preprocessing - nettoyage des données 🧹"
   ]
  },
  {
   "cell_type": "code",
   "execution_count": 4,
   "id": "f32c42ef",
   "metadata": {},
   "outputs": [],
   "source": [
    "df = df.drop([\"_id\",\"type\",\"metaDataProvider\",\"pfVehicleId\",\"providerType\"], axis=1)"
   ]
  },
  {
   "cell_type": "code",
   "execution_count": 5,
   "id": "256186c1",
   "metadata": {},
   "outputs": [],
   "source": [
    "df = df.dropna(subset=['name', 'value','dateTime'])"
   ]
  },
  {
   "cell_type": "code",
   "execution_count": 6,
   "id": "b1816767",
   "metadata": {},
   "outputs": [],
   "source": [
    "battery_as_array = np.array(df[\"value\"]).reshape(-1, 1)\n",
    "df[\"normalized_value\"]= RobustScaler().fit_transform(battery_as_array)\n",
    "rs_inverse = RobustScaler().fit(battery_as_array)#dénormalise"
   ]
  },
  {
   "cell_type": "code",
   "execution_count": 7,
   "id": "a31b31cf",
   "metadata": {},
   "outputs": [],
   "source": [
    "label = LabelEncoder()\n",
    "df['id']=label.fit_transform(df['id'])"
   ]
  },
  {
   "cell_type": "markdown",
   "id": "b269cbdd",
   "metadata": {},
   "source": [
    "## Répartition des véhicules lourds et légers 🚚🚛"
   ]
  },
  {
   "cell_type": "code",
   "execution_count": 8,
   "id": "b6b21ca0",
   "metadata": {},
   "outputs": [],
   "source": [
    "for vehicle in df['name'].unique():\n",
    "    val_max = df['value'].loc[(df.name == vehicle)].max()\n",
    "    if val_max <15000 :\n",
    "        df.loc[df['name'] == vehicle , 'harshAccelerationSettingType'] = 'lightTruck' \n",
    "    else : \n",
    "        df.loc[df['name'] == vehicle , 'harshAccelerationSettingType'] = 'heavyDuty'"
   ]
  },
  {
   "cell_type": "code",
   "execution_count": 9,
   "id": "67e44307",
   "metadata": {},
   "outputs": [],
   "source": [
    "df_heavy = df.loc[df['harshAccelerationSettingType'] == 'heavyDuty']\n",
    "df_light = df.loc[df['harshAccelerationSettingType'] == 'lightTruck']"
   ]
  },
  {
   "cell_type": "code",
   "execution_count": 10,
   "id": "f4b045a6",
   "metadata": {},
   "outputs": [
    {
     "data": {
      "text/plain": [
       "PF-65062        29108\n",
       "PF-72713        12446\n",
       "PF-79504        12002\n",
       "PF-77277        11644\n",
       "PF-61634        11426\n",
       "                ...  \n",
       "97111              15\n",
       "97901              15\n",
       "GKSV-K5K-6XJ        8\n",
       "GCPY-FR7-WCG        5\n",
       "GJDV-879-WJ6        1\n",
       "Name: name, Length: 375, dtype: int64"
      ]
     },
     "execution_count": 10,
     "metadata": {},
     "output_type": "execute_result"
    }
   ],
   "source": [
    "df_heavy['name'].value_counts()"
   ]
  },
  {
   "cell_type": "markdown",
   "id": "04de6208",
   "metadata": {},
   "source": [
    "## Choix du camion et de la période 🚚📆"
   ]
  },
  {
   "cell_type": "code",
   "execution_count": 228,
   "id": "2d9bef8c",
   "metadata": {},
   "outputs": [
    {
     "name": "stderr",
     "output_type": "stream",
     "text": [
      "C:\\Users\\NGH\\AppData\\Local\\Temp\\ipykernel_16956\\3486999735.py:4: SettingWithCopyWarning:\n",
      "\n",
      "\n",
      "A value is trying to be set on a copy of a slice from a DataFrame.\n",
      "Try using .loc[row_indexer,col_indexer] = value instead\n",
      "\n",
      "See the caveats in the documentation: https://pandas.pydata.org/pandas-docs/stable/user_guide/indexing.html#returning-a-view-versus-a-copy\n",
      "\n"
     ]
    }
   ],
   "source": [
    "df_test = df.loc[df.name == 'PF-51443']#vehicule léger\n",
    "#df_test=df.loc[df.name == 'PF-85403']#véhicule lourd\n",
    "\n",
    "df_test['dateTime']=pd.to_datetime(df_test['dateTime'])\n",
    "\n",
    "#df_test=df_test[(df_test['dateTime'] >= '2021-03-30')&(df_test['dateTime'] < '2021-04-07')] #véhicule léger"
   ]
  },
  {
   "cell_type": "markdown",
   "id": "51589a8b",
   "metadata": {},
   "source": [
    "Ensuite, il faut choisir le type de train qu'on souhaite parmis les 3 prochaines cellules."
   ]
  },
  {
   "cell_type": "code",
   "execution_count": 295,
   "id": "e0bb6b9d",
   "metadata": {},
   "outputs": [
    {
     "name": "stderr",
     "output_type": "stream",
     "text": [
      "C:\\Users\\NGH\\AppData\\Local\\Temp\\ipykernel_16956\\3146903773.py:5: SettingWithCopyWarning:\n",
      "\n",
      "\n",
      "A value is trying to be set on a copy of a slice from a DataFrame.\n",
      "Try using .loc[row_indexer,col_indexer] = value instead\n",
      "\n",
      "See the caveats in the documentation: https://pandas.pydata.org/pandas-docs/stable/user_guide/indexing.html#returning-a-view-versus-a-copy\n",
      "\n"
     ]
    }
   ],
   "source": [
    "if df_test['harshAccelerationSettingType'].unique() ==  'lightTruck' :\n",
    "    df_train=df.loc[df.name == 'PF-77174'] # train avec 1 véhicule léger\n",
    "else :\n",
    "    df_train=df.loc[df.name == 'PF-65062'] # train avec 1 véhicule lourd\n",
    "df_train['dateTime']=pd.to_datetime(df_train.loc[:, ('dateTime')])\n",
    "df_train=df_train[(df_train['dateTime'] >= '2021-03-30')&(df_train['dateTime'] < '2021-04-14')]"
   ]
  },
  {
   "cell_type": "code",
   "execution_count": 340,
   "id": "26ab7d8c",
   "metadata": {},
   "outputs": [],
   "source": [
    "# if df_test['harshAccelerationSettingType'].unique() ==  'lightTruck' :\n",
    "#     df_train = df_light.copy() # entraînement sur tous les véhicules légers\n",
    "# else :\n",
    "#     df_train = df_heavy.copy() # entraînement sur tous les véhicules lourds\n",
    "# df_train['dateTime']=pd.to_datetime(df_train.loc[:, ('dateTime')])\n",
    "# df_train=df_train[(df_train['dateTime'] >= '2021-03-30')&(df_train['dateTime'] < '2021-04-14')]"
   ]
  },
  {
   "cell_type": "code",
   "execution_count": 313,
   "id": "af811d9d",
   "metadata": {},
   "outputs": [],
   "source": [
    "# df_train = df.copy() # entraînement sur tous les véhicules confondus\n",
    "# df_train['dateTime']=pd.to_datetime(df_train.loc[:, ('dateTime')]) # conversion de la colonne en type datetime\n",
    "# df_train=df_train[df_train['dateTime'].dt.year > 2020]"
   ]
  },
  {
   "cell_type": "markdown",
   "id": "784429ca",
   "metadata": {},
   "source": [
    "# Preprocessing sur alertNotif"
   ]
  },
  {
   "cell_type": "code",
   "execution_count": 15,
   "id": "6497aae0",
   "metadata": {},
   "outputs": [],
   "source": [
    "import re"
   ]
  },
  {
   "cell_type": "markdown",
   "id": "c240dcb2",
   "metadata": {},
   "source": [
    "On souhaite extraire la valeur de la batterie de la colonne \"description\" de type object."
   ]
  },
  {
   "cell_type": "code",
   "execution_count": 16,
   "id": "2661a13c",
   "metadata": {},
   "outputs": [],
   "source": [
    "alert_df['value']=[re.findall(\"\\d+\\.\\d+\", r)[0] for r in alert_df['description']] #re.findall returns list"
   ]
  },
  {
   "cell_type": "code",
   "execution_count": 17,
   "id": "45da5a34",
   "metadata": {},
   "outputs": [
    {
     "data": {
      "text/plain": [
       "0      12867.0\n",
       "1        785.0\n",
       "2      23624.0\n",
       "3      23630.0\n",
       "4        880.0\n",
       "        ...   \n",
       "98         0.0\n",
       "99         0.0\n",
       "100        0.0\n",
       "101        0.0\n",
       "102        0.0\n",
       "Name: value, Length: 103, dtype: float64"
      ]
     },
     "execution_count": 17,
     "metadata": {},
     "output_type": "execute_result"
    }
   ],
   "source": [
    "alert_df['value'] = pd.to_numeric(alert_df['value'])\n",
    "alert_df['value']"
   ]
  },
  {
   "cell_type": "code",
   "execution_count": 18,
   "id": "ab5dd028",
   "metadata": {},
   "outputs": [],
   "source": [
    "alert_df['time']=pd.to_datetime(alert_df['time'])"
   ]
  },
  {
   "cell_type": "markdown",
   "id": "f510fd7e",
   "metadata": {},
   "source": [
    "## Série temporelle"
   ]
  },
  {
   "cell_type": "code",
   "execution_count": 341,
   "id": "2169596d",
   "metadata": {},
   "outputs": [],
   "source": [
    "serie_train = df_train.set_index('dateTime')\n",
    "resampled_train = serie_train.resample('1H').mean().interpolate()\n",
    "resampled_train = resampled_train.reset_index()"
   ]
  },
  {
   "cell_type": "code",
   "execution_count": 342,
   "id": "8f54915e",
   "metadata": {},
   "outputs": [],
   "source": [
    "serie_test = df_test.set_index('dateTime')\n",
    "resampled_test = serie_test.resample('1H').mean().interpolate()\n",
    "resampled_test = resampled_test.reset_index()"
   ]
  },
  {
   "cell_type": "code",
   "execution_count": 343,
   "id": "6659ab4f",
   "metadata": {},
   "outputs": [],
   "source": [
    "# tst = alert_df.merge(df,how='inner') #test pour voir les véhicules en commun\n",
    "# tst"
   ]
  },
  {
   "cell_type": "code",
   "execution_count": 344,
   "id": "739107f0",
   "metadata": {},
   "outputs": [],
   "source": [
    "import plotly.graph_objects as go"
   ]
  },
  {
   "cell_type": "code",
   "execution_count": 345,
   "id": "d2fddd5b",
   "metadata": {},
   "outputs": [
    {
     "data": {
      "application/vnd.plotly.v1+json": {
       "config": {
        "plotlyServerURL": "https://plot.ly"
       },
       "data": [
        {
         "mode": "lines",
         "name": "Train",
         "type": "scatter",
         "x": [
          "2021-03-30T09:00:00+00:00",
          "2021-03-30T10:00:00+00:00",
          "2021-03-30T11:00:00+00:00",
          "2021-03-30T12:00:00+00:00",
          "2021-03-30T13:00:00+00:00",
          "2021-03-30T14:00:00+00:00",
          "2021-03-30T15:00:00+00:00",
          "2021-03-30T16:00:00+00:00",
          "2021-03-30T17:00:00+00:00",
          "2021-03-30T18:00:00+00:00",
          "2021-03-30T19:00:00+00:00",
          "2021-03-30T20:00:00+00:00",
          "2021-03-30T21:00:00+00:00",
          "2021-03-30T22:00:00+00:00",
          "2021-03-30T23:00:00+00:00",
          "2021-03-31T00:00:00+00:00",
          "2021-03-31T01:00:00+00:00",
          "2021-03-31T02:00:00+00:00",
          "2021-03-31T03:00:00+00:00",
          "2021-03-31T04:00:00+00:00",
          "2021-03-31T05:00:00+00:00",
          "2021-03-31T06:00:00+00:00",
          "2021-03-31T07:00:00+00:00",
          "2021-03-31T08:00:00+00:00",
          "2021-03-31T09:00:00+00:00",
          "2021-03-31T10:00:00+00:00",
          "2021-03-31T11:00:00+00:00",
          "2021-03-31T12:00:00+00:00",
          "2021-03-31T13:00:00+00:00",
          "2021-03-31T14:00:00+00:00",
          "2021-03-31T15:00:00+00:00",
          "2021-03-31T16:00:00+00:00",
          "2021-03-31T17:00:00+00:00",
          "2021-03-31T18:00:00+00:00",
          "2021-03-31T19:00:00+00:00",
          "2021-03-31T20:00:00+00:00",
          "2021-03-31T21:00:00+00:00",
          "2021-03-31T22:00:00+00:00",
          "2021-03-31T23:00:00+00:00",
          "2021-04-01T00:00:00+00:00",
          "2021-04-01T01:00:00+00:00",
          "2021-04-01T02:00:00+00:00",
          "2021-04-01T03:00:00+00:00",
          "2021-04-01T04:00:00+00:00",
          "2021-04-01T05:00:00+00:00",
          "2021-04-01T06:00:00+00:00",
          "2021-04-01T07:00:00+00:00",
          "2021-04-01T08:00:00+00:00",
          "2021-04-01T09:00:00+00:00",
          "2021-04-01T10:00:00+00:00",
          "2021-04-01T11:00:00+00:00",
          "2021-04-01T12:00:00+00:00",
          "2021-04-01T13:00:00+00:00",
          "2021-04-01T14:00:00+00:00",
          "2021-04-01T15:00:00+00:00",
          "2021-04-01T16:00:00+00:00",
          "2021-04-01T17:00:00+00:00",
          "2021-04-01T18:00:00+00:00",
          "2021-04-01T19:00:00+00:00",
          "2021-04-01T20:00:00+00:00",
          "2021-04-01T21:00:00+00:00",
          "2021-04-01T22:00:00+00:00",
          "2021-04-01T23:00:00+00:00",
          "2021-04-02T00:00:00+00:00",
          "2021-04-02T01:00:00+00:00",
          "2021-04-02T02:00:00+00:00",
          "2021-04-02T03:00:00+00:00",
          "2021-04-02T04:00:00+00:00",
          "2021-04-02T05:00:00+00:00",
          "2021-04-02T06:00:00+00:00",
          "2021-04-02T07:00:00+00:00",
          "2021-04-02T08:00:00+00:00",
          "2021-04-02T09:00:00+00:00",
          "2021-04-02T10:00:00+00:00",
          "2021-04-02T11:00:00+00:00",
          "2021-04-02T12:00:00+00:00",
          "2021-04-02T13:00:00+00:00",
          "2021-04-02T14:00:00+00:00",
          "2021-04-02T15:00:00+00:00",
          "2021-04-02T16:00:00+00:00",
          "2021-04-02T17:00:00+00:00",
          "2021-04-02T18:00:00+00:00",
          "2021-04-02T19:00:00+00:00",
          "2021-04-02T20:00:00+00:00",
          "2021-04-02T21:00:00+00:00",
          "2021-04-02T22:00:00+00:00",
          "2021-04-02T23:00:00+00:00",
          "2021-04-03T00:00:00+00:00",
          "2021-04-03T01:00:00+00:00",
          "2021-04-03T02:00:00+00:00",
          "2021-04-03T03:00:00+00:00",
          "2021-04-03T04:00:00+00:00",
          "2021-04-03T05:00:00+00:00",
          "2021-04-03T06:00:00+00:00",
          "2021-04-03T07:00:00+00:00",
          "2021-04-03T08:00:00+00:00",
          "2021-04-03T09:00:00+00:00",
          "2021-04-03T10:00:00+00:00",
          "2021-04-03T11:00:00+00:00",
          "2021-04-03T12:00:00+00:00",
          "2021-04-03T13:00:00+00:00",
          "2021-04-03T14:00:00+00:00",
          "2021-04-03T15:00:00+00:00",
          "2021-04-03T16:00:00+00:00",
          "2021-04-03T17:00:00+00:00",
          "2021-04-03T18:00:00+00:00",
          "2021-04-03T19:00:00+00:00",
          "2021-04-03T20:00:00+00:00",
          "2021-04-03T21:00:00+00:00",
          "2021-04-03T22:00:00+00:00",
          "2021-04-03T23:00:00+00:00",
          "2021-04-04T00:00:00+00:00",
          "2021-04-04T01:00:00+00:00",
          "2021-04-04T02:00:00+00:00",
          "2021-04-04T03:00:00+00:00",
          "2021-04-04T04:00:00+00:00",
          "2021-04-04T05:00:00+00:00",
          "2021-04-04T06:00:00+00:00",
          "2021-04-04T07:00:00+00:00",
          "2021-04-04T08:00:00+00:00",
          "2021-04-04T09:00:00+00:00",
          "2021-04-04T10:00:00+00:00",
          "2021-04-04T11:00:00+00:00",
          "2021-04-04T12:00:00+00:00",
          "2021-04-04T13:00:00+00:00",
          "2021-04-04T14:00:00+00:00",
          "2021-04-04T15:00:00+00:00",
          "2021-04-04T16:00:00+00:00",
          "2021-04-04T17:00:00+00:00",
          "2021-04-04T18:00:00+00:00",
          "2021-04-04T19:00:00+00:00",
          "2021-04-04T20:00:00+00:00",
          "2021-04-04T21:00:00+00:00",
          "2021-04-04T22:00:00+00:00",
          "2021-04-04T23:00:00+00:00",
          "2021-04-05T00:00:00+00:00",
          "2021-04-05T01:00:00+00:00",
          "2021-04-05T02:00:00+00:00",
          "2021-04-05T03:00:00+00:00",
          "2021-04-05T04:00:00+00:00",
          "2021-04-05T05:00:00+00:00",
          "2021-04-05T06:00:00+00:00",
          "2021-04-05T07:00:00+00:00",
          "2021-04-05T08:00:00+00:00",
          "2021-04-05T09:00:00+00:00",
          "2021-04-05T10:00:00+00:00",
          "2021-04-05T11:00:00+00:00",
          "2021-04-05T12:00:00+00:00",
          "2021-04-05T13:00:00+00:00",
          "2021-04-05T14:00:00+00:00",
          "2021-04-05T15:00:00+00:00",
          "2021-04-05T16:00:00+00:00",
          "2021-04-05T17:00:00+00:00",
          "2021-04-05T18:00:00+00:00",
          "2021-04-05T19:00:00+00:00",
          "2021-04-05T20:00:00+00:00",
          "2021-04-05T21:00:00+00:00",
          "2021-04-05T22:00:00+00:00",
          "2021-04-05T23:00:00+00:00",
          "2021-04-06T00:00:00+00:00",
          "2021-04-06T01:00:00+00:00",
          "2021-04-06T02:00:00+00:00",
          "2021-04-06T03:00:00+00:00",
          "2021-04-06T04:00:00+00:00",
          "2021-04-06T05:00:00+00:00",
          "2021-04-06T06:00:00+00:00",
          "2021-04-06T07:00:00+00:00",
          "2021-04-06T08:00:00+00:00",
          "2021-04-06T09:00:00+00:00",
          "2021-04-06T10:00:00+00:00",
          "2021-04-06T11:00:00+00:00",
          "2021-04-06T12:00:00+00:00",
          "2021-04-06T13:00:00+00:00",
          "2021-04-06T14:00:00+00:00",
          "2021-04-06T15:00:00+00:00",
          "2021-04-06T16:00:00+00:00",
          "2021-04-06T17:00:00+00:00",
          "2021-04-06T18:00:00+00:00",
          "2021-04-06T19:00:00+00:00",
          "2021-04-06T20:00:00+00:00",
          "2021-04-06T21:00:00+00:00",
          "2021-04-06T22:00:00+00:00",
          "2021-04-06T23:00:00+00:00",
          "2021-04-07T00:00:00+00:00",
          "2021-04-07T01:00:00+00:00",
          "2021-04-07T02:00:00+00:00",
          "2021-04-07T03:00:00+00:00",
          "2021-04-07T04:00:00+00:00",
          "2021-04-07T05:00:00+00:00",
          "2021-04-07T06:00:00+00:00",
          "2021-04-07T07:00:00+00:00",
          "2021-04-07T08:00:00+00:00",
          "2021-04-07T09:00:00+00:00",
          "2021-04-07T10:00:00+00:00",
          "2021-04-07T11:00:00+00:00",
          "2021-04-07T12:00:00+00:00",
          "2021-04-07T13:00:00+00:00",
          "2021-04-07T14:00:00+00:00",
          "2021-04-07T15:00:00+00:00",
          "2021-04-07T16:00:00+00:00",
          "2021-04-07T17:00:00+00:00",
          "2021-04-07T18:00:00+00:00",
          "2021-04-07T19:00:00+00:00",
          "2021-04-07T20:00:00+00:00",
          "2021-04-07T21:00:00+00:00",
          "2021-04-07T22:00:00+00:00",
          "2021-04-07T23:00:00+00:00",
          "2021-04-08T00:00:00+00:00",
          "2021-04-08T01:00:00+00:00",
          "2021-04-08T02:00:00+00:00",
          "2021-04-08T03:00:00+00:00",
          "2021-04-08T04:00:00+00:00",
          "2021-04-08T05:00:00+00:00",
          "2021-04-08T06:00:00+00:00",
          "2021-04-08T07:00:00+00:00",
          "2021-04-08T08:00:00+00:00",
          "2021-04-08T09:00:00+00:00",
          "2021-04-08T10:00:00+00:00",
          "2021-04-08T11:00:00+00:00",
          "2021-04-08T12:00:00+00:00",
          "2021-04-08T13:00:00+00:00",
          "2021-04-08T14:00:00+00:00",
          "2021-04-08T15:00:00+00:00",
          "2021-04-08T16:00:00+00:00",
          "2021-04-08T17:00:00+00:00",
          "2021-04-08T18:00:00+00:00",
          "2021-04-08T19:00:00+00:00",
          "2021-04-08T20:00:00+00:00",
          "2021-04-08T21:00:00+00:00",
          "2021-04-08T22:00:00+00:00",
          "2021-04-08T23:00:00+00:00",
          "2021-04-09T00:00:00+00:00",
          "2021-04-09T01:00:00+00:00",
          "2021-04-09T02:00:00+00:00",
          "2021-04-09T03:00:00+00:00",
          "2021-04-09T04:00:00+00:00",
          "2021-04-09T05:00:00+00:00",
          "2021-04-09T06:00:00+00:00",
          "2021-04-09T07:00:00+00:00",
          "2021-04-09T08:00:00+00:00",
          "2021-04-09T09:00:00+00:00",
          "2021-04-09T10:00:00+00:00",
          "2021-04-09T11:00:00+00:00",
          "2021-04-09T12:00:00+00:00",
          "2021-04-09T13:00:00+00:00",
          "2021-04-09T14:00:00+00:00",
          "2021-04-09T15:00:00+00:00",
          "2021-04-09T16:00:00+00:00",
          "2021-04-09T17:00:00+00:00",
          "2021-04-09T18:00:00+00:00",
          "2021-04-09T19:00:00+00:00",
          "2021-04-09T20:00:00+00:00",
          "2021-04-09T21:00:00+00:00",
          "2021-04-09T22:00:00+00:00",
          "2021-04-09T23:00:00+00:00",
          "2021-04-10T00:00:00+00:00",
          "2021-04-10T01:00:00+00:00",
          "2021-04-10T02:00:00+00:00",
          "2021-04-10T03:00:00+00:00",
          "2021-04-10T04:00:00+00:00",
          "2021-04-10T05:00:00+00:00",
          "2021-04-10T06:00:00+00:00",
          "2021-04-10T07:00:00+00:00",
          "2021-04-10T08:00:00+00:00",
          "2021-04-10T09:00:00+00:00",
          "2021-04-10T10:00:00+00:00",
          "2021-04-10T11:00:00+00:00",
          "2021-04-10T12:00:00+00:00",
          "2021-04-10T13:00:00+00:00",
          "2021-04-10T14:00:00+00:00",
          "2021-04-10T15:00:00+00:00",
          "2021-04-10T16:00:00+00:00",
          "2021-04-10T17:00:00+00:00",
          "2021-04-10T18:00:00+00:00",
          "2021-04-10T19:00:00+00:00",
          "2021-04-10T20:00:00+00:00",
          "2021-04-10T21:00:00+00:00",
          "2021-04-10T22:00:00+00:00",
          "2021-04-10T23:00:00+00:00",
          "2021-04-11T00:00:00+00:00",
          "2021-04-11T01:00:00+00:00",
          "2021-04-11T02:00:00+00:00",
          "2021-04-11T03:00:00+00:00",
          "2021-04-11T04:00:00+00:00",
          "2021-04-11T05:00:00+00:00",
          "2021-04-11T06:00:00+00:00",
          "2021-04-11T07:00:00+00:00",
          "2021-04-11T08:00:00+00:00",
          "2021-04-11T09:00:00+00:00",
          "2021-04-11T10:00:00+00:00",
          "2021-04-11T11:00:00+00:00",
          "2021-04-11T12:00:00+00:00",
          "2021-04-11T13:00:00+00:00",
          "2021-04-11T14:00:00+00:00",
          "2021-04-11T15:00:00+00:00",
          "2021-04-11T16:00:00+00:00",
          "2021-04-11T17:00:00+00:00",
          "2021-04-11T18:00:00+00:00",
          "2021-04-11T19:00:00+00:00",
          "2021-04-11T20:00:00+00:00",
          "2021-04-11T21:00:00+00:00",
          "2021-04-11T22:00:00+00:00",
          "2021-04-11T23:00:00+00:00",
          "2021-04-12T00:00:00+00:00",
          "2021-04-12T01:00:00+00:00",
          "2021-04-12T02:00:00+00:00",
          "2021-04-12T03:00:00+00:00",
          "2021-04-12T04:00:00+00:00",
          "2021-04-12T05:00:00+00:00",
          "2021-04-12T06:00:00+00:00",
          "2021-04-12T07:00:00+00:00",
          "2021-04-12T08:00:00+00:00",
          "2021-04-12T09:00:00+00:00",
          "2021-04-12T10:00:00+00:00",
          "2021-04-12T11:00:00+00:00",
          "2021-04-12T12:00:00+00:00",
          "2021-04-12T13:00:00+00:00",
          "2021-04-12T14:00:00+00:00",
          "2021-04-12T15:00:00+00:00",
          "2021-04-12T16:00:00+00:00",
          "2021-04-12T17:00:00+00:00",
          "2021-04-12T18:00:00+00:00",
          "2021-04-12T19:00:00+00:00",
          "2021-04-12T20:00:00+00:00",
          "2021-04-12T21:00:00+00:00",
          "2021-04-12T22:00:00+00:00",
          "2021-04-12T23:00:00+00:00",
          "2021-04-13T00:00:00+00:00",
          "2021-04-13T01:00:00+00:00",
          "2021-04-13T02:00:00+00:00",
          "2021-04-13T03:00:00+00:00",
          "2021-04-13T04:00:00+00:00",
          "2021-04-13T05:00:00+00:00",
          "2021-04-13T06:00:00+00:00",
          "2021-04-13T07:00:00+00:00",
          "2021-04-13T08:00:00+00:00",
          "2021-04-13T09:00:00+00:00",
          "2021-04-13T10:00:00+00:00",
          "2021-04-13T11:00:00+00:00",
          "2021-04-13T12:00:00+00:00",
          "2021-04-13T13:00:00+00:00",
          "2021-04-13T14:00:00+00:00",
          "2021-04-13T15:00:00+00:00",
          "2021-04-13T16:00:00+00:00",
          "2021-04-13T17:00:00+00:00",
          "2021-04-13T18:00:00+00:00",
          "2021-04-13T19:00:00+00:00"
         ],
         "y": [
          10121.333333333334,
          11183.258064516129,
          12741.555555555555,
          12734.64,
          12728.24,
          12722.814814814816,
          8465.923076923076,
          12701.689655172413,
          12694.615384615385,
          12606.236842105263,
          12659.44324501145,
          12629.964404894326,
          12618.579807124583,
          12606.31747981748,
          12608.131017457239,
          12612.884057971014,
          12654.940074906366,
          12686.741663859886,
          12752.951263537907,
          12864.53281299777,
          12965.785319410319,
          13017.655390166892,
          13068.654744309784,
          13064.985381386598,
          13070.65611905794,
          12983.204512996286,
          12953.007167955024,
          12983.585774647887,
          12991.354742662697,
          12945.66430020284,
          12887.930486008836,
          12830.080023195129,
          12766.642122281011,
          12705.850858692378,
          12653.01806572185,
          12629.24689193497,
          12607.611056751468,
          12592.0734546647,
          12600.388130856485,
          12614.135587709316,
          12637.709661757566,
          12702.130051314945,
          12748.569025157232,
          12871.723301702064,
          12982.928508254718,
          13034.013858497447,
          13044.590493601463,
          12991.637456324248,
          13052.509499375954,
          12964.696029776675,
          12942.977668173722,
          12981.729482452547,
          12984.170953101362,
          12923.217354793562,
          12909.946031746033,
          12804.88252052958,
          12770.777452415812,
          12708.296117965694,
          12664.292863909062,
          12636.651991614255,
          12627.142833361078,
          12608.613226452906,
          12634.088,
          12632.608053691276,
          12664.675994108984,
          12765.101810673443,
          12798.451864565455,
          12952.958582535884,
          13065.595574319406,
          13090.511956369739,
          13132.829396720324,
          13337.602279924002,
          406.22222222222223,
          442.75,
          4495.048148148147,
          8547.346296296295,
          12599.644444444444,
          12722.83437990581,
          12900.358531994982,
          12758.284263959391,
          12753.335740072202,
          12704.109126984127,
          12664.4052936311,
          12645.245149911816,
          12617.69592408885,
          12583.5957308131,
          12580.239055582882,
          12587.862986692951,
          12635.80191826522,
          12803.595281306714,
          12007.521739130434,
          12004.238095238095,
          12002.526315789473,
          12342.964788732394,
          12570.353182190658,
          12693.87186300561,
          12756.27831378952,
          12718.593263473054,
          12675.371900826447,
          12662.160156839089,
          12654.419993904297,
          12638.44310637641,
          12599.720789310131,
          12590.120511968085,
          12538.003717472118,
          12606.913623441942,
          12675.823529411764,
          12697.222222222223,
          12705.28,
          12433.03804347826,
          12503.874414570686,
          12522.845588235294,
          12556.278833967046,
          12561.725778132482,
          12556.106656101427,
          12559.689966714217,
          12554.123347332401,
          12537.945209719857,
          12528.221664837749,
          12527.073269171065,
          12536.87374284388,
          12525.166980539861,
          12514.816827761053,
          12511.333978390583,
          12493.517711171662,
          12495.764759309719,
          12498.011807447774,
          12500.258855585831,
          12502.505903723888,
          12504.752951861943,
          12507,
          12445.102384291726,
          12437.34437425303,
          12431.479661568499,
          12420.688215379654,
          12420.499272668498,
          12407.406408370116,
          12432.330211529146,
          12445.497308758768,
          12467.744855967077,
          12496.694092479842,
          12501.731444211882,
          12499.599483621107,
          12528.609088903595,
          12768.285347043702,
          12610.325716639596,
          12452.36608623549,
          12528.154922779922,
          12527.45610478715,
          12513.873123716226,
          12512.658597925181,
          12512.139740752451,
          12494.242702789872,
          12479.72487113402,
          12464.37231844907,
          12463.230954676952,
          12452.119871794872,
          12445.014224069042,
          12432.371511068335,
          12444.189899967732,
          12509.526888503391,
          12601.11539122958,
          12793.062669245648,
          12800.294224924011,
          13060.964311726148,
          13265.680555555555,
          1551.6666666666667,
          6949.894192521878,
          12348.121718377088,
          12710.17733581935,
          12768.633440066824,
          12770.03405746321,
          12721.955408515536,
          12685.222287218485,
          12649.275007376807,
          12617.366616314199,
          12607.526694202234,
          12589.320032976093,
          12582.025117739404,
          12550.518006547836,
          12554.701449275362,
          12551.331105314639,
          12553.775702426565,
          12558.829433596902,
          12602.86309618127,
          12686.680385152975,
          12729.788905547226,
          12863.745130111523,
          12954.632120597187,
          12998.816,
          13191.187729417934,
          12347.263339070569,
          12854.648023143684,
          12917.327702174252,
          12591.587125416205,
          12727.32261277928,
          12724.461441390915,
          12702.410093299406,
          12680.354030024777,
          12636.156492460841,
          12617.39170025377,
          12595.17104870033,
          12568.767456359103,
          12567.085560651589,
          12562.714376793114,
          12580.55750967288,
          12569.857175778725,
          12559.15684188457,
          12548.456507990415,
          12537.75617409626,
          12527.055840202103,
          12516.35550630795,
          12505.655172413793,
          12670.550548112058,
          12949.987579354127,
          12966.49340943063,
          12934.081471389645,
          12825.675328190553,
          12801.273473857103,
          12770.494232353749,
          12784.846880644713,
          12753.334041950113,
          12698.178417884781,
          12672.12712360867,
          12642.366144018582,
          12602.055919548986,
          12578.627892529896,
          12567.778520360584,
          12561.772498426684,
          12554.972818311873,
          12538.467292644757,
          12564.674181932049,
          12582.078910505837,
          12659.979743008314,
          12737.50184774575,
          12876.793951671249,
          12990.336522462563,
          13046.897642088046,
          13036.745978552279,
          13060.020750199521,
          13044.90643969385,
          12911.957026100712,
          12862.818495422582,
          12868.965215082315,
          12849.295363173413,
          12790.772783505156,
          12727.329909960608,
          12684.95,
          12650.266842413592,
          12611.678048780488,
          12595.375272840662,
          12576.598430141288,
          12568.240813751774,
          12563.367025550378,
          12554.805828318023,
          12552.235933806147,
          12571.91761543327,
          12600.727919102545,
          12622.848646110502,
          12658.956528347773,
          12685.46102006433,
          12671.103391603168,
          12695.023139745916,
          12710.413418625409,
          12709.64303949542,
          12672.585813712423,
          12624.35816492108,
          12613.352693349383,
          12619.541423220973,
          12639.781269254467,
          12766.053278688525,
          12755.158579234972,
          12744.263879781422,
          12733.369180327869,
          12722.474480874318,
          12711.579781420765,
          12700.685081967213,
          12689.790382513662,
          12678.89568306011,
          12668.000983606558,
          12657.106284153006,
          12646.211584699455,
          12635.316885245902,
          12624.42218579235,
          12613.527486338799,
          12602.632786885246,
          12591.738087431695,
          12580.843387978142,
          12569.94868852459,
          12559.053989071039,
          12548.159289617486,
          12537.264590163935,
          12526.369890710383,
          12515.47519125683,
          12504.580491803279,
          12493.685792349726,
          12482.791092896176,
          12471.896393442623,
          12461.00169398907,
          12450.10699453552,
          12439.212295081967,
          12428.317595628416,
          12417.422896174863,
          12406.528196721312,
          12395.63349726776,
          12384.738797814207,
          12373.844098360656,
          12362.949398907103,
          12352.054699453553,
          12341.16,
          12689.07279780922,
          12856.752953958985,
          12794.303054989816,
          12703.175166598667,
          12667.300217746326,
          12686.514277831426,
          12684.114997875655,
          12642.026247848537,
          12617.128639334522,
          12579.718272227994,
          12548.80987394958,
          12543.47051634586,
          12522.794528968803,
          12514.867110148514,
          12513.837234706616,
          12509.258280205257,
          12503.31432588658,
          12528.120719311963,
          12557.673989321129,
          12638.339242788461,
          12674.156946072684,
          12852.012864228147,
          13345.381422924902,
          13097.659461462452,
          12849.9375,
          12706.444444444445,
          12411.08888888889,
          12505.534299516909,
          12728.039176360477,
          12722.702319935257,
          12733.877717767622,
          12687.484613212873,
          12638.02053915276,
          12605.06801416347,
          12591.593568557391,
          12577.2206,
          12683.439698492462
         ]
        },
        {
         "mode": "lines+markers",
         "name": "Test",
         "type": "scatter",
         "x": [
          "2021-03-30T19:00:00+00:00",
          "2021-03-30T20:00:00+00:00",
          "2021-03-30T21:00:00+00:00",
          "2021-03-30T22:00:00+00:00",
          "2021-03-30T23:00:00+00:00",
          "2021-03-31T00:00:00+00:00",
          "2021-03-31T01:00:00+00:00",
          "2021-03-31T02:00:00+00:00",
          "2021-03-31T03:00:00+00:00",
          "2021-03-31T04:00:00+00:00",
          "2021-03-31T05:00:00+00:00",
          "2021-03-31T06:00:00+00:00",
          "2021-03-31T07:00:00+00:00",
          "2021-03-31T08:00:00+00:00",
          "2021-03-31T09:00:00+00:00",
          "2021-03-31T10:00:00+00:00",
          "2021-03-31T11:00:00+00:00",
          "2021-03-31T12:00:00+00:00",
          "2021-03-31T13:00:00+00:00",
          "2021-03-31T14:00:00+00:00",
          "2021-03-31T15:00:00+00:00",
          "2021-03-31T16:00:00+00:00",
          "2021-03-31T17:00:00+00:00",
          "2021-03-31T18:00:00+00:00",
          "2021-03-31T19:00:00+00:00",
          "2021-03-31T20:00:00+00:00",
          "2021-03-31T21:00:00+00:00",
          "2021-03-31T22:00:00+00:00",
          "2021-03-31T23:00:00+00:00",
          "2021-04-01T00:00:00+00:00",
          "2021-04-01T01:00:00+00:00",
          "2021-04-01T02:00:00+00:00",
          "2021-04-01T03:00:00+00:00",
          "2021-04-01T04:00:00+00:00",
          "2021-04-01T05:00:00+00:00",
          "2021-04-01T06:00:00+00:00",
          "2021-04-01T07:00:00+00:00",
          "2021-04-01T08:00:00+00:00",
          "2021-04-01T09:00:00+00:00",
          "2021-04-01T10:00:00+00:00",
          "2021-04-01T11:00:00+00:00",
          "2021-04-01T12:00:00+00:00",
          "2021-04-01T13:00:00+00:00",
          "2021-04-01T14:00:00+00:00",
          "2021-04-01T15:00:00+00:00",
          "2021-04-01T16:00:00+00:00",
          "2021-04-01T17:00:00+00:00",
          "2021-04-01T18:00:00+00:00",
          "2021-04-01T19:00:00+00:00",
          "2021-04-01T20:00:00+00:00",
          "2021-04-01T21:00:00+00:00",
          "2021-04-01T22:00:00+00:00",
          "2021-04-01T23:00:00+00:00",
          "2021-04-02T00:00:00+00:00",
          "2021-04-02T01:00:00+00:00",
          "2021-04-02T02:00:00+00:00",
          "2021-04-02T03:00:00+00:00",
          "2021-04-02T04:00:00+00:00",
          "2021-04-02T05:00:00+00:00",
          "2021-04-02T06:00:00+00:00",
          "2021-04-02T07:00:00+00:00",
          "2021-04-02T08:00:00+00:00",
          "2021-04-02T09:00:00+00:00",
          "2021-04-02T10:00:00+00:00",
          "2021-04-02T11:00:00+00:00",
          "2021-04-02T12:00:00+00:00",
          "2021-04-02T13:00:00+00:00",
          "2021-04-02T14:00:00+00:00",
          "2021-04-02T15:00:00+00:00",
          "2021-04-02T16:00:00+00:00",
          "2021-04-02T17:00:00+00:00",
          "2021-04-02T18:00:00+00:00",
          "2021-04-02T19:00:00+00:00",
          "2021-04-02T20:00:00+00:00",
          "2021-04-02T21:00:00+00:00",
          "2021-04-02T22:00:00+00:00",
          "2021-04-02T23:00:00+00:00",
          "2021-04-03T00:00:00+00:00",
          "2021-04-03T01:00:00+00:00",
          "2021-04-03T02:00:00+00:00",
          "2021-04-03T03:00:00+00:00",
          "2021-04-03T04:00:00+00:00",
          "2021-04-03T05:00:00+00:00",
          "2021-04-03T06:00:00+00:00",
          "2021-04-03T07:00:00+00:00",
          "2021-04-03T08:00:00+00:00",
          "2021-04-03T09:00:00+00:00",
          "2021-04-03T10:00:00+00:00",
          "2021-04-03T11:00:00+00:00",
          "2021-04-03T12:00:00+00:00",
          "2021-04-03T13:00:00+00:00",
          "2021-04-03T14:00:00+00:00",
          "2021-04-03T15:00:00+00:00",
          "2021-04-03T16:00:00+00:00",
          "2021-04-03T17:00:00+00:00",
          "2021-04-03T18:00:00+00:00",
          "2021-04-03T19:00:00+00:00",
          "2021-04-03T20:00:00+00:00",
          "2021-04-03T21:00:00+00:00",
          "2021-04-03T22:00:00+00:00",
          "2021-04-03T23:00:00+00:00",
          "2021-04-04T00:00:00+00:00",
          "2021-04-04T01:00:00+00:00",
          "2021-04-04T02:00:00+00:00",
          "2021-04-04T03:00:00+00:00",
          "2021-04-04T04:00:00+00:00",
          "2021-04-04T05:00:00+00:00",
          "2021-04-04T06:00:00+00:00",
          "2021-04-04T07:00:00+00:00",
          "2021-04-04T08:00:00+00:00",
          "2021-04-04T09:00:00+00:00",
          "2021-04-04T10:00:00+00:00",
          "2021-04-04T11:00:00+00:00",
          "2021-04-04T12:00:00+00:00",
          "2021-04-04T13:00:00+00:00",
          "2021-04-04T14:00:00+00:00",
          "2021-04-04T15:00:00+00:00",
          "2021-04-04T16:00:00+00:00",
          "2021-04-04T17:00:00+00:00",
          "2021-04-04T18:00:00+00:00",
          "2021-04-04T19:00:00+00:00",
          "2021-04-04T20:00:00+00:00",
          "2021-04-04T21:00:00+00:00",
          "2021-04-04T22:00:00+00:00",
          "2021-04-04T23:00:00+00:00",
          "2021-04-05T00:00:00+00:00",
          "2021-04-05T01:00:00+00:00",
          "2021-04-05T02:00:00+00:00"
         ],
         "y": [
          11427.5,
          11440.76,
          11428.5,
          11425.16,
          11403.636363636364,
          11389.56,
          11383.47619047619,
          11346.125,
          11316.12,
          11281.173913043478,
          11242.875,
          11192.148148148148,
          11076.961538461539,
          10975.32142857143,
          10875.655172413793,
          10792.107142857143,
          10712.444444444445,
          10671.57142857143,
          10615.103448275862,
          10560.384615384615,
          10499.24,
          10466.3,
          10397.607142857143,
          10288.310344827587,
          10241.655172413793,
          10154.551724137931,
          10067,
          9995.433333333332,
          9902.962962962964,
          9736.25,
          9611.7,
          9606.192307692309,
          9572.785714285714,
          9570.892857142857,
          9557.384615384615,
          9540.17857142857,
          9542.76923076923,
          9554.75,
          9560.933333333332,
          9568.074074074075,
          9574.92857142857,
          9580.481481481482,
          9600.407407407407,
          9603.862068965518,
          9607.42857142857,
          9607.083333333334,
          9588.785714285714,
          9582.074074074075,
          9565.818181818182,
          9555.423076923076,
          9547.291666666666,
          9541.481481481482,
          9522.285714285714,
          9517.615384615385,
          9515.296296296296,
          9513.5,
          9494.73076923077,
          9492.758620689656,
          9495.42857142857,
          9482.782608695652,
          9476,
          9475.377142857144,
          9474.754285714285,
          9474.131428571429,
          9473.50857142857,
          9472.885714285714,
          9472.262857142856,
          9471.64,
          9248,
          9450.25,
          9469,
          9458.196428571428,
          9447.392857142857,
          9436.589285714286,
          9425.785714285714,
          9429.555555555555,
          9421.44,
          9420.888888888889,
          9415.714285714286,
          9399.07142857143,
          9382.428571428572,
          9365.785714285714,
          9349.142857142857,
          9332.5,
          9387.76923076923,
          9390.148148148148,
          9402.916666666666,
          9382.5,
          9370.714285714286,
          9369.23076923077,
          9325.4,
          9347.64,
          9360.62962962963,
          9364.153846153846,
          9353.272727272728,
          9338.63484848485,
          9323.996969696971,
          9309.35909090909,
          9294.721212121212,
          9280.083333333334,
          9304.92857142857,
          9304.346153846154,
          9293.76923076923,
          9266.153846153846,
          9257.44,
          9255.344827586207,
          9237.346153846154,
          9237,
          9173.75,
          9135.67857142857,
          8978,
          8633.551724137931,
          8357.233333333334,
          8111.0344827586205,
          7718.1,
          7642.271428571429,
          7566.442857142857,
          7490.614285714286,
          7414.785714285715,
          7338.9571428571435,
          7263.128571428571,
          7187.3,
          7039.896551724138,
          6813.928571428572,
          6533.206896551724,
          6334.103448275862,
          5220.466666666666,
          5300.25
         ]
        }
       ],
       "layout": {
        "template": {
         "data": {
          "bar": [
           {
            "error_x": {
             "color": "#2a3f5f"
            },
            "error_y": {
             "color": "#2a3f5f"
            },
            "marker": {
             "line": {
              "color": "#E5ECF6",
              "width": 0.5
             },
             "pattern": {
              "fillmode": "overlay",
              "size": 10,
              "solidity": 0.2
             }
            },
            "type": "bar"
           }
          ],
          "barpolar": [
           {
            "marker": {
             "line": {
              "color": "#E5ECF6",
              "width": 0.5
             },
             "pattern": {
              "fillmode": "overlay",
              "size": 10,
              "solidity": 0.2
             }
            },
            "type": "barpolar"
           }
          ],
          "carpet": [
           {
            "aaxis": {
             "endlinecolor": "#2a3f5f",
             "gridcolor": "white",
             "linecolor": "white",
             "minorgridcolor": "white",
             "startlinecolor": "#2a3f5f"
            },
            "baxis": {
             "endlinecolor": "#2a3f5f",
             "gridcolor": "white",
             "linecolor": "white",
             "minorgridcolor": "white",
             "startlinecolor": "#2a3f5f"
            },
            "type": "carpet"
           }
          ],
          "choropleth": [
           {
            "colorbar": {
             "outlinewidth": 0,
             "ticks": ""
            },
            "type": "choropleth"
           }
          ],
          "contour": [
           {
            "colorbar": {
             "outlinewidth": 0,
             "ticks": ""
            },
            "colorscale": [
             [
              0,
              "#0d0887"
             ],
             [
              0.1111111111111111,
              "#46039f"
             ],
             [
              0.2222222222222222,
              "#7201a8"
             ],
             [
              0.3333333333333333,
              "#9c179e"
             ],
             [
              0.4444444444444444,
              "#bd3786"
             ],
             [
              0.5555555555555556,
              "#d8576b"
             ],
             [
              0.6666666666666666,
              "#ed7953"
             ],
             [
              0.7777777777777778,
              "#fb9f3a"
             ],
             [
              0.8888888888888888,
              "#fdca26"
             ],
             [
              1,
              "#f0f921"
             ]
            ],
            "type": "contour"
           }
          ],
          "contourcarpet": [
           {
            "colorbar": {
             "outlinewidth": 0,
             "ticks": ""
            },
            "type": "contourcarpet"
           }
          ],
          "heatmap": [
           {
            "colorbar": {
             "outlinewidth": 0,
             "ticks": ""
            },
            "colorscale": [
             [
              0,
              "#0d0887"
             ],
             [
              0.1111111111111111,
              "#46039f"
             ],
             [
              0.2222222222222222,
              "#7201a8"
             ],
             [
              0.3333333333333333,
              "#9c179e"
             ],
             [
              0.4444444444444444,
              "#bd3786"
             ],
             [
              0.5555555555555556,
              "#d8576b"
             ],
             [
              0.6666666666666666,
              "#ed7953"
             ],
             [
              0.7777777777777778,
              "#fb9f3a"
             ],
             [
              0.8888888888888888,
              "#fdca26"
             ],
             [
              1,
              "#f0f921"
             ]
            ],
            "type": "heatmap"
           }
          ],
          "heatmapgl": [
           {
            "colorbar": {
             "outlinewidth": 0,
             "ticks": ""
            },
            "colorscale": [
             [
              0,
              "#0d0887"
             ],
             [
              0.1111111111111111,
              "#46039f"
             ],
             [
              0.2222222222222222,
              "#7201a8"
             ],
             [
              0.3333333333333333,
              "#9c179e"
             ],
             [
              0.4444444444444444,
              "#bd3786"
             ],
             [
              0.5555555555555556,
              "#d8576b"
             ],
             [
              0.6666666666666666,
              "#ed7953"
             ],
             [
              0.7777777777777778,
              "#fb9f3a"
             ],
             [
              0.8888888888888888,
              "#fdca26"
             ],
             [
              1,
              "#f0f921"
             ]
            ],
            "type": "heatmapgl"
           }
          ],
          "histogram": [
           {
            "marker": {
             "pattern": {
              "fillmode": "overlay",
              "size": 10,
              "solidity": 0.2
             }
            },
            "type": "histogram"
           }
          ],
          "histogram2d": [
           {
            "colorbar": {
             "outlinewidth": 0,
             "ticks": ""
            },
            "colorscale": [
             [
              0,
              "#0d0887"
             ],
             [
              0.1111111111111111,
              "#46039f"
             ],
             [
              0.2222222222222222,
              "#7201a8"
             ],
             [
              0.3333333333333333,
              "#9c179e"
             ],
             [
              0.4444444444444444,
              "#bd3786"
             ],
             [
              0.5555555555555556,
              "#d8576b"
             ],
             [
              0.6666666666666666,
              "#ed7953"
             ],
             [
              0.7777777777777778,
              "#fb9f3a"
             ],
             [
              0.8888888888888888,
              "#fdca26"
             ],
             [
              1,
              "#f0f921"
             ]
            ],
            "type": "histogram2d"
           }
          ],
          "histogram2dcontour": [
           {
            "colorbar": {
             "outlinewidth": 0,
             "ticks": ""
            },
            "colorscale": [
             [
              0,
              "#0d0887"
             ],
             [
              0.1111111111111111,
              "#46039f"
             ],
             [
              0.2222222222222222,
              "#7201a8"
             ],
             [
              0.3333333333333333,
              "#9c179e"
             ],
             [
              0.4444444444444444,
              "#bd3786"
             ],
             [
              0.5555555555555556,
              "#d8576b"
             ],
             [
              0.6666666666666666,
              "#ed7953"
             ],
             [
              0.7777777777777778,
              "#fb9f3a"
             ],
             [
              0.8888888888888888,
              "#fdca26"
             ],
             [
              1,
              "#f0f921"
             ]
            ],
            "type": "histogram2dcontour"
           }
          ],
          "mesh3d": [
           {
            "colorbar": {
             "outlinewidth": 0,
             "ticks": ""
            },
            "type": "mesh3d"
           }
          ],
          "parcoords": [
           {
            "line": {
             "colorbar": {
              "outlinewidth": 0,
              "ticks": ""
             }
            },
            "type": "parcoords"
           }
          ],
          "pie": [
           {
            "automargin": true,
            "type": "pie"
           }
          ],
          "scatter": [
           {
            "marker": {
             "colorbar": {
              "outlinewidth": 0,
              "ticks": ""
             }
            },
            "type": "scatter"
           }
          ],
          "scatter3d": [
           {
            "line": {
             "colorbar": {
              "outlinewidth": 0,
              "ticks": ""
             }
            },
            "marker": {
             "colorbar": {
              "outlinewidth": 0,
              "ticks": ""
             }
            },
            "type": "scatter3d"
           }
          ],
          "scattercarpet": [
           {
            "marker": {
             "colorbar": {
              "outlinewidth": 0,
              "ticks": ""
             }
            },
            "type": "scattercarpet"
           }
          ],
          "scattergeo": [
           {
            "marker": {
             "colorbar": {
              "outlinewidth": 0,
              "ticks": ""
             }
            },
            "type": "scattergeo"
           }
          ],
          "scattergl": [
           {
            "marker": {
             "colorbar": {
              "outlinewidth": 0,
              "ticks": ""
             }
            },
            "type": "scattergl"
           }
          ],
          "scattermapbox": [
           {
            "marker": {
             "colorbar": {
              "outlinewidth": 0,
              "ticks": ""
             }
            },
            "type": "scattermapbox"
           }
          ],
          "scatterpolar": [
           {
            "marker": {
             "colorbar": {
              "outlinewidth": 0,
              "ticks": ""
             }
            },
            "type": "scatterpolar"
           }
          ],
          "scatterpolargl": [
           {
            "marker": {
             "colorbar": {
              "outlinewidth": 0,
              "ticks": ""
             }
            },
            "type": "scatterpolargl"
           }
          ],
          "scatterternary": [
           {
            "marker": {
             "colorbar": {
              "outlinewidth": 0,
              "ticks": ""
             }
            },
            "type": "scatterternary"
           }
          ],
          "surface": [
           {
            "colorbar": {
             "outlinewidth": 0,
             "ticks": ""
            },
            "colorscale": [
             [
              0,
              "#0d0887"
             ],
             [
              0.1111111111111111,
              "#46039f"
             ],
             [
              0.2222222222222222,
              "#7201a8"
             ],
             [
              0.3333333333333333,
              "#9c179e"
             ],
             [
              0.4444444444444444,
              "#bd3786"
             ],
             [
              0.5555555555555556,
              "#d8576b"
             ],
             [
              0.6666666666666666,
              "#ed7953"
             ],
             [
              0.7777777777777778,
              "#fb9f3a"
             ],
             [
              0.8888888888888888,
              "#fdca26"
             ],
             [
              1,
              "#f0f921"
             ]
            ],
            "type": "surface"
           }
          ],
          "table": [
           {
            "cells": {
             "fill": {
              "color": "#EBF0F8"
             },
             "line": {
              "color": "white"
             }
            },
            "header": {
             "fill": {
              "color": "#C8D4E3"
             },
             "line": {
              "color": "white"
             }
            },
            "type": "table"
           }
          ]
         },
         "layout": {
          "annotationdefaults": {
           "arrowcolor": "#2a3f5f",
           "arrowhead": 0,
           "arrowwidth": 1
          },
          "autotypenumbers": "strict",
          "coloraxis": {
           "colorbar": {
            "outlinewidth": 0,
            "ticks": ""
           }
          },
          "colorscale": {
           "diverging": [
            [
             0,
             "#8e0152"
            ],
            [
             0.1,
             "#c51b7d"
            ],
            [
             0.2,
             "#de77ae"
            ],
            [
             0.3,
             "#f1b6da"
            ],
            [
             0.4,
             "#fde0ef"
            ],
            [
             0.5,
             "#f7f7f7"
            ],
            [
             0.6,
             "#e6f5d0"
            ],
            [
             0.7,
             "#b8e186"
            ],
            [
             0.8,
             "#7fbc41"
            ],
            [
             0.9,
             "#4d9221"
            ],
            [
             1,
             "#276419"
            ]
           ],
           "sequential": [
            [
             0,
             "#0d0887"
            ],
            [
             0.1111111111111111,
             "#46039f"
            ],
            [
             0.2222222222222222,
             "#7201a8"
            ],
            [
             0.3333333333333333,
             "#9c179e"
            ],
            [
             0.4444444444444444,
             "#bd3786"
            ],
            [
             0.5555555555555556,
             "#d8576b"
            ],
            [
             0.6666666666666666,
             "#ed7953"
            ],
            [
             0.7777777777777778,
             "#fb9f3a"
            ],
            [
             0.8888888888888888,
             "#fdca26"
            ],
            [
             1,
             "#f0f921"
            ]
           ],
           "sequentialminus": [
            [
             0,
             "#0d0887"
            ],
            [
             0.1111111111111111,
             "#46039f"
            ],
            [
             0.2222222222222222,
             "#7201a8"
            ],
            [
             0.3333333333333333,
             "#9c179e"
            ],
            [
             0.4444444444444444,
             "#bd3786"
            ],
            [
             0.5555555555555556,
             "#d8576b"
            ],
            [
             0.6666666666666666,
             "#ed7953"
            ],
            [
             0.7777777777777778,
             "#fb9f3a"
            ],
            [
             0.8888888888888888,
             "#fdca26"
            ],
            [
             1,
             "#f0f921"
            ]
           ]
          },
          "colorway": [
           "#636efa",
           "#EF553B",
           "#00cc96",
           "#ab63fa",
           "#FFA15A",
           "#19d3f3",
           "#FF6692",
           "#B6E880",
           "#FF97FF",
           "#FECB52"
          ],
          "font": {
           "color": "#2a3f5f"
          },
          "geo": {
           "bgcolor": "white",
           "lakecolor": "white",
           "landcolor": "#E5ECF6",
           "showlakes": true,
           "showland": true,
           "subunitcolor": "white"
          },
          "hoverlabel": {
           "align": "left"
          },
          "hovermode": "closest",
          "mapbox": {
           "style": "light"
          },
          "paper_bgcolor": "white",
          "plot_bgcolor": "#E5ECF6",
          "polar": {
           "angularaxis": {
            "gridcolor": "white",
            "linecolor": "white",
            "ticks": ""
           },
           "bgcolor": "#E5ECF6",
           "radialaxis": {
            "gridcolor": "white",
            "linecolor": "white",
            "ticks": ""
           }
          },
          "scene": {
           "xaxis": {
            "backgroundcolor": "#E5ECF6",
            "gridcolor": "white",
            "gridwidth": 2,
            "linecolor": "white",
            "showbackground": true,
            "ticks": "",
            "zerolinecolor": "white"
           },
           "yaxis": {
            "backgroundcolor": "#E5ECF6",
            "gridcolor": "white",
            "gridwidth": 2,
            "linecolor": "white",
            "showbackground": true,
            "ticks": "",
            "zerolinecolor": "white"
           },
           "zaxis": {
            "backgroundcolor": "#E5ECF6",
            "gridcolor": "white",
            "gridwidth": 2,
            "linecolor": "white",
            "showbackground": true,
            "ticks": "",
            "zerolinecolor": "white"
           }
          },
          "shapedefaults": {
           "line": {
            "color": "#2a3f5f"
           }
          },
          "ternary": {
           "aaxis": {
            "gridcolor": "white",
            "linecolor": "white",
            "ticks": ""
           },
           "baxis": {
            "gridcolor": "white",
            "linecolor": "white",
            "ticks": ""
           },
           "bgcolor": "#E5ECF6",
           "caxis": {
            "gridcolor": "white",
            "linecolor": "white",
            "ticks": ""
           }
          },
          "title": {
           "x": 0.05
          },
          "xaxis": {
           "automargin": true,
           "gridcolor": "white",
           "linecolor": "white",
           "ticks": "",
           "title": {
            "standoff": 15
           },
           "zerolinecolor": "white",
           "zerolinewidth": 2
          },
          "yaxis": {
           "automargin": true,
           "gridcolor": "white",
           "linecolor": "white",
           "ticks": "",
           "title": {
            "standoff": 15
           },
           "zerolinecolor": "white",
           "zerolinewidth": 2
          }
         }
        },
        "title": {
         "text": "Comparaison série train et test"
        },
        "xaxis": {
         "title": {
          "text": "Date"
         }
        },
        "yaxis": {
         "title": {
          "text": "Battery mV"
         }
        }
       }
      },
      "text/html": [
       "<div>                            <div id=\"83232f98-4856-4dc9-9845-956322e3e4d8\" class=\"plotly-graph-div\" style=\"height:525px; width:100%;\"></div>            <script type=\"text/javascript\">                require([\"plotly\"], function(Plotly) {                    window.PLOTLYENV=window.PLOTLYENV || {};                                    if (document.getElementById(\"83232f98-4856-4dc9-9845-956322e3e4d8\")) {                    Plotly.newPlot(                        \"83232f98-4856-4dc9-9845-956322e3e4d8\",                        [{\"mode\":\"lines\",\"name\":\"Train\",\"x\":[\"2021-03-30T09:00:00+00:00\",\"2021-03-30T10:00:00+00:00\",\"2021-03-30T11:00:00+00:00\",\"2021-03-30T12:00:00+00:00\",\"2021-03-30T13:00:00+00:00\",\"2021-03-30T14:00:00+00:00\",\"2021-03-30T15:00:00+00:00\",\"2021-03-30T16:00:00+00:00\",\"2021-03-30T17:00:00+00:00\",\"2021-03-30T18:00:00+00:00\",\"2021-03-30T19:00:00+00:00\",\"2021-03-30T20:00:00+00:00\",\"2021-03-30T21:00:00+00:00\",\"2021-03-30T22:00:00+00:00\",\"2021-03-30T23:00:00+00:00\",\"2021-03-31T00:00:00+00:00\",\"2021-03-31T01:00:00+00:00\",\"2021-03-31T02:00:00+00:00\",\"2021-03-31T03:00:00+00:00\",\"2021-03-31T04:00:00+00:00\",\"2021-03-31T05:00:00+00:00\",\"2021-03-31T06:00:00+00:00\",\"2021-03-31T07:00:00+00:00\",\"2021-03-31T08:00:00+00:00\",\"2021-03-31T09:00:00+00:00\",\"2021-03-31T10:00:00+00:00\",\"2021-03-31T11:00:00+00:00\",\"2021-03-31T12:00:00+00:00\",\"2021-03-31T13:00:00+00:00\",\"2021-03-31T14:00:00+00:00\",\"2021-03-31T15:00:00+00:00\",\"2021-03-31T16:00:00+00:00\",\"2021-03-31T17:00:00+00:00\",\"2021-03-31T18:00:00+00:00\",\"2021-03-31T19:00:00+00:00\",\"2021-03-31T20:00:00+00:00\",\"2021-03-31T21:00:00+00:00\",\"2021-03-31T22:00:00+00:00\",\"2021-03-31T23:00:00+00:00\",\"2021-04-01T00:00:00+00:00\",\"2021-04-01T01:00:00+00:00\",\"2021-04-01T02:00:00+00:00\",\"2021-04-01T03:00:00+00:00\",\"2021-04-01T04:00:00+00:00\",\"2021-04-01T05:00:00+00:00\",\"2021-04-01T06:00:00+00:00\",\"2021-04-01T07:00:00+00:00\",\"2021-04-01T08:00:00+00:00\",\"2021-04-01T09:00:00+00:00\",\"2021-04-01T10:00:00+00:00\",\"2021-04-01T11:00:00+00:00\",\"2021-04-01T12:00:00+00:00\",\"2021-04-01T13:00:00+00:00\",\"2021-04-01T14:00:00+00:00\",\"2021-04-01T15:00:00+00:00\",\"2021-04-01T16:00:00+00:00\",\"2021-04-01T17:00:00+00:00\",\"2021-04-01T18:00:00+00:00\",\"2021-04-01T19:00:00+00:00\",\"2021-04-01T20:00:00+00:00\",\"2021-04-01T21:00:00+00:00\",\"2021-04-01T22:00:00+00:00\",\"2021-04-01T23:00:00+00:00\",\"2021-04-02T00:00:00+00:00\",\"2021-04-02T01:00:00+00:00\",\"2021-04-02T02:00:00+00:00\",\"2021-04-02T03:00:00+00:00\",\"2021-04-02T04:00:00+00:00\",\"2021-04-02T05:00:00+00:00\",\"2021-04-02T06:00:00+00:00\",\"2021-04-02T07:00:00+00:00\",\"2021-04-02T08:00:00+00:00\",\"2021-04-02T09:00:00+00:00\",\"2021-04-02T10:00:00+00:00\",\"2021-04-02T11:00:00+00:00\",\"2021-04-02T12:00:00+00:00\",\"2021-04-02T13:00:00+00:00\",\"2021-04-02T14:00:00+00:00\",\"2021-04-02T15:00:00+00:00\",\"2021-04-02T16:00:00+00:00\",\"2021-04-02T17:00:00+00:00\",\"2021-04-02T18:00:00+00:00\",\"2021-04-02T19:00:00+00:00\",\"2021-04-02T20:00:00+00:00\",\"2021-04-02T21:00:00+00:00\",\"2021-04-02T22:00:00+00:00\",\"2021-04-02T23:00:00+00:00\",\"2021-04-03T00:00:00+00:00\",\"2021-04-03T01:00:00+00:00\",\"2021-04-03T02:00:00+00:00\",\"2021-04-03T03:00:00+00:00\",\"2021-04-03T04:00:00+00:00\",\"2021-04-03T05:00:00+00:00\",\"2021-04-03T06:00:00+00:00\",\"2021-04-03T07:00:00+00:00\",\"2021-04-03T08:00:00+00:00\",\"2021-04-03T09:00:00+00:00\",\"2021-04-03T10:00:00+00:00\",\"2021-04-03T11:00:00+00:00\",\"2021-04-03T12:00:00+00:00\",\"2021-04-03T13:00:00+00:00\",\"2021-04-03T14:00:00+00:00\",\"2021-04-03T15:00:00+00:00\",\"2021-04-03T16:00:00+00:00\",\"2021-04-03T17:00:00+00:00\",\"2021-04-03T18:00:00+00:00\",\"2021-04-03T19:00:00+00:00\",\"2021-04-03T20:00:00+00:00\",\"2021-04-03T21:00:00+00:00\",\"2021-04-03T22:00:00+00:00\",\"2021-04-03T23:00:00+00:00\",\"2021-04-04T00:00:00+00:00\",\"2021-04-04T01:00:00+00:00\",\"2021-04-04T02:00:00+00:00\",\"2021-04-04T03:00:00+00:00\",\"2021-04-04T04:00:00+00:00\",\"2021-04-04T05:00:00+00:00\",\"2021-04-04T06:00:00+00:00\",\"2021-04-04T07:00:00+00:00\",\"2021-04-04T08:00:00+00:00\",\"2021-04-04T09:00:00+00:00\",\"2021-04-04T10:00:00+00:00\",\"2021-04-04T11:00:00+00:00\",\"2021-04-04T12:00:00+00:00\",\"2021-04-04T13:00:00+00:00\",\"2021-04-04T14:00:00+00:00\",\"2021-04-04T15:00:00+00:00\",\"2021-04-04T16:00:00+00:00\",\"2021-04-04T17:00:00+00:00\",\"2021-04-04T18:00:00+00:00\",\"2021-04-04T19:00:00+00:00\",\"2021-04-04T20:00:00+00:00\",\"2021-04-04T21:00:00+00:00\",\"2021-04-04T22:00:00+00:00\",\"2021-04-04T23:00:00+00:00\",\"2021-04-05T00:00:00+00:00\",\"2021-04-05T01:00:00+00:00\",\"2021-04-05T02:00:00+00:00\",\"2021-04-05T03:00:00+00:00\",\"2021-04-05T04:00:00+00:00\",\"2021-04-05T05:00:00+00:00\",\"2021-04-05T06:00:00+00:00\",\"2021-04-05T07:00:00+00:00\",\"2021-04-05T08:00:00+00:00\",\"2021-04-05T09:00:00+00:00\",\"2021-04-05T10:00:00+00:00\",\"2021-04-05T11:00:00+00:00\",\"2021-04-05T12:00:00+00:00\",\"2021-04-05T13:00:00+00:00\",\"2021-04-05T14:00:00+00:00\",\"2021-04-05T15:00:00+00:00\",\"2021-04-05T16:00:00+00:00\",\"2021-04-05T17:00:00+00:00\",\"2021-04-05T18:00:00+00:00\",\"2021-04-05T19:00:00+00:00\",\"2021-04-05T20:00:00+00:00\",\"2021-04-05T21:00:00+00:00\",\"2021-04-05T22:00:00+00:00\",\"2021-04-05T23:00:00+00:00\",\"2021-04-06T00:00:00+00:00\",\"2021-04-06T01:00:00+00:00\",\"2021-04-06T02:00:00+00:00\",\"2021-04-06T03:00:00+00:00\",\"2021-04-06T04:00:00+00:00\",\"2021-04-06T05:00:00+00:00\",\"2021-04-06T06:00:00+00:00\",\"2021-04-06T07:00:00+00:00\",\"2021-04-06T08:00:00+00:00\",\"2021-04-06T09:00:00+00:00\",\"2021-04-06T10:00:00+00:00\",\"2021-04-06T11:00:00+00:00\",\"2021-04-06T12:00:00+00:00\",\"2021-04-06T13:00:00+00:00\",\"2021-04-06T14:00:00+00:00\",\"2021-04-06T15:00:00+00:00\",\"2021-04-06T16:00:00+00:00\",\"2021-04-06T17:00:00+00:00\",\"2021-04-06T18:00:00+00:00\",\"2021-04-06T19:00:00+00:00\",\"2021-04-06T20:00:00+00:00\",\"2021-04-06T21:00:00+00:00\",\"2021-04-06T22:00:00+00:00\",\"2021-04-06T23:00:00+00:00\",\"2021-04-07T00:00:00+00:00\",\"2021-04-07T01:00:00+00:00\",\"2021-04-07T02:00:00+00:00\",\"2021-04-07T03:00:00+00:00\",\"2021-04-07T04:00:00+00:00\",\"2021-04-07T05:00:00+00:00\",\"2021-04-07T06:00:00+00:00\",\"2021-04-07T07:00:00+00:00\",\"2021-04-07T08:00:00+00:00\",\"2021-04-07T09:00:00+00:00\",\"2021-04-07T10:00:00+00:00\",\"2021-04-07T11:00:00+00:00\",\"2021-04-07T12:00:00+00:00\",\"2021-04-07T13:00:00+00:00\",\"2021-04-07T14:00:00+00:00\",\"2021-04-07T15:00:00+00:00\",\"2021-04-07T16:00:00+00:00\",\"2021-04-07T17:00:00+00:00\",\"2021-04-07T18:00:00+00:00\",\"2021-04-07T19:00:00+00:00\",\"2021-04-07T20:00:00+00:00\",\"2021-04-07T21:00:00+00:00\",\"2021-04-07T22:00:00+00:00\",\"2021-04-07T23:00:00+00:00\",\"2021-04-08T00:00:00+00:00\",\"2021-04-08T01:00:00+00:00\",\"2021-04-08T02:00:00+00:00\",\"2021-04-08T03:00:00+00:00\",\"2021-04-08T04:00:00+00:00\",\"2021-04-08T05:00:00+00:00\",\"2021-04-08T06:00:00+00:00\",\"2021-04-08T07:00:00+00:00\",\"2021-04-08T08:00:00+00:00\",\"2021-04-08T09:00:00+00:00\",\"2021-04-08T10:00:00+00:00\",\"2021-04-08T11:00:00+00:00\",\"2021-04-08T12:00:00+00:00\",\"2021-04-08T13:00:00+00:00\",\"2021-04-08T14:00:00+00:00\",\"2021-04-08T15:00:00+00:00\",\"2021-04-08T16:00:00+00:00\",\"2021-04-08T17:00:00+00:00\",\"2021-04-08T18:00:00+00:00\",\"2021-04-08T19:00:00+00:00\",\"2021-04-08T20:00:00+00:00\",\"2021-04-08T21:00:00+00:00\",\"2021-04-08T22:00:00+00:00\",\"2021-04-08T23:00:00+00:00\",\"2021-04-09T00:00:00+00:00\",\"2021-04-09T01:00:00+00:00\",\"2021-04-09T02:00:00+00:00\",\"2021-04-09T03:00:00+00:00\",\"2021-04-09T04:00:00+00:00\",\"2021-04-09T05:00:00+00:00\",\"2021-04-09T06:00:00+00:00\",\"2021-04-09T07:00:00+00:00\",\"2021-04-09T08:00:00+00:00\",\"2021-04-09T09:00:00+00:00\",\"2021-04-09T10:00:00+00:00\",\"2021-04-09T11:00:00+00:00\",\"2021-04-09T12:00:00+00:00\",\"2021-04-09T13:00:00+00:00\",\"2021-04-09T14:00:00+00:00\",\"2021-04-09T15:00:00+00:00\",\"2021-04-09T16:00:00+00:00\",\"2021-04-09T17:00:00+00:00\",\"2021-04-09T18:00:00+00:00\",\"2021-04-09T19:00:00+00:00\",\"2021-04-09T20:00:00+00:00\",\"2021-04-09T21:00:00+00:00\",\"2021-04-09T22:00:00+00:00\",\"2021-04-09T23:00:00+00:00\",\"2021-04-10T00:00:00+00:00\",\"2021-04-10T01:00:00+00:00\",\"2021-04-10T02:00:00+00:00\",\"2021-04-10T03:00:00+00:00\",\"2021-04-10T04:00:00+00:00\",\"2021-04-10T05:00:00+00:00\",\"2021-04-10T06:00:00+00:00\",\"2021-04-10T07:00:00+00:00\",\"2021-04-10T08:00:00+00:00\",\"2021-04-10T09:00:00+00:00\",\"2021-04-10T10:00:00+00:00\",\"2021-04-10T11:00:00+00:00\",\"2021-04-10T12:00:00+00:00\",\"2021-04-10T13:00:00+00:00\",\"2021-04-10T14:00:00+00:00\",\"2021-04-10T15:00:00+00:00\",\"2021-04-10T16:00:00+00:00\",\"2021-04-10T17:00:00+00:00\",\"2021-04-10T18:00:00+00:00\",\"2021-04-10T19:00:00+00:00\",\"2021-04-10T20:00:00+00:00\",\"2021-04-10T21:00:00+00:00\",\"2021-04-10T22:00:00+00:00\",\"2021-04-10T23:00:00+00:00\",\"2021-04-11T00:00:00+00:00\",\"2021-04-11T01:00:00+00:00\",\"2021-04-11T02:00:00+00:00\",\"2021-04-11T03:00:00+00:00\",\"2021-04-11T04:00:00+00:00\",\"2021-04-11T05:00:00+00:00\",\"2021-04-11T06:00:00+00:00\",\"2021-04-11T07:00:00+00:00\",\"2021-04-11T08:00:00+00:00\",\"2021-04-11T09:00:00+00:00\",\"2021-04-11T10:00:00+00:00\",\"2021-04-11T11:00:00+00:00\",\"2021-04-11T12:00:00+00:00\",\"2021-04-11T13:00:00+00:00\",\"2021-04-11T14:00:00+00:00\",\"2021-04-11T15:00:00+00:00\",\"2021-04-11T16:00:00+00:00\",\"2021-04-11T17:00:00+00:00\",\"2021-04-11T18:00:00+00:00\",\"2021-04-11T19:00:00+00:00\",\"2021-04-11T20:00:00+00:00\",\"2021-04-11T21:00:00+00:00\",\"2021-04-11T22:00:00+00:00\",\"2021-04-11T23:00:00+00:00\",\"2021-04-12T00:00:00+00:00\",\"2021-04-12T01:00:00+00:00\",\"2021-04-12T02:00:00+00:00\",\"2021-04-12T03:00:00+00:00\",\"2021-04-12T04:00:00+00:00\",\"2021-04-12T05:00:00+00:00\",\"2021-04-12T06:00:00+00:00\",\"2021-04-12T07:00:00+00:00\",\"2021-04-12T08:00:00+00:00\",\"2021-04-12T09:00:00+00:00\",\"2021-04-12T10:00:00+00:00\",\"2021-04-12T11:00:00+00:00\",\"2021-04-12T12:00:00+00:00\",\"2021-04-12T13:00:00+00:00\",\"2021-04-12T14:00:00+00:00\",\"2021-04-12T15:00:00+00:00\",\"2021-04-12T16:00:00+00:00\",\"2021-04-12T17:00:00+00:00\",\"2021-04-12T18:00:00+00:00\",\"2021-04-12T19:00:00+00:00\",\"2021-04-12T20:00:00+00:00\",\"2021-04-12T21:00:00+00:00\",\"2021-04-12T22:00:00+00:00\",\"2021-04-12T23:00:00+00:00\",\"2021-04-13T00:00:00+00:00\",\"2021-04-13T01:00:00+00:00\",\"2021-04-13T02:00:00+00:00\",\"2021-04-13T03:00:00+00:00\",\"2021-04-13T04:00:00+00:00\",\"2021-04-13T05:00:00+00:00\",\"2021-04-13T06:00:00+00:00\",\"2021-04-13T07:00:00+00:00\",\"2021-04-13T08:00:00+00:00\",\"2021-04-13T09:00:00+00:00\",\"2021-04-13T10:00:00+00:00\",\"2021-04-13T11:00:00+00:00\",\"2021-04-13T12:00:00+00:00\",\"2021-04-13T13:00:00+00:00\",\"2021-04-13T14:00:00+00:00\",\"2021-04-13T15:00:00+00:00\",\"2021-04-13T16:00:00+00:00\",\"2021-04-13T17:00:00+00:00\",\"2021-04-13T18:00:00+00:00\",\"2021-04-13T19:00:00+00:00\"],\"y\":[10121.333333333334,11183.258064516129,12741.555555555555,12734.64,12728.24,12722.814814814816,8465.923076923076,12701.689655172413,12694.615384615385,12606.236842105263,12659.44324501145,12629.964404894326,12618.579807124583,12606.31747981748,12608.131017457239,12612.884057971014,12654.940074906366,12686.741663859886,12752.951263537907,12864.53281299777,12965.785319410319,13017.655390166892,13068.654744309784,13064.985381386598,13070.65611905794,12983.204512996286,12953.007167955024,12983.585774647887,12991.354742662697,12945.66430020284,12887.930486008836,12830.080023195129,12766.642122281011,12705.850858692378,12653.01806572185,12629.24689193497,12607.611056751468,12592.0734546647,12600.388130856485,12614.135587709316,12637.709661757566,12702.130051314945,12748.569025157232,12871.723301702064,12982.928508254718,13034.013858497447,13044.590493601463,12991.637456324248,13052.509499375954,12964.696029776675,12942.977668173722,12981.729482452547,12984.170953101362,12923.217354793562,12909.946031746033,12804.88252052958,12770.777452415812,12708.296117965694,12664.292863909062,12636.651991614255,12627.142833361078,12608.613226452906,12634.088,12632.608053691276,12664.675994108984,12765.101810673443,12798.451864565455,12952.958582535884,13065.595574319406,13090.511956369739,13132.829396720324,13337.602279924002,406.22222222222223,442.75,4495.048148148147,8547.346296296295,12599.644444444444,12722.83437990581,12900.358531994982,12758.284263959391,12753.335740072202,12704.109126984127,12664.4052936311,12645.245149911816,12617.69592408885,12583.5957308131,12580.239055582882,12587.862986692951,12635.80191826522,12803.595281306714,12007.521739130434,12004.238095238095,12002.526315789473,12342.964788732394,12570.353182190658,12693.87186300561,12756.27831378952,12718.593263473054,12675.371900826447,12662.160156839089,12654.419993904297,12638.44310637641,12599.720789310131,12590.120511968085,12538.003717472118,12606.913623441942,12675.823529411764,12697.222222222223,12705.28,12433.03804347826,12503.874414570686,12522.845588235294,12556.278833967046,12561.725778132482,12556.106656101427,12559.689966714217,12554.123347332401,12537.945209719857,12528.221664837749,12527.073269171065,12536.87374284388,12525.166980539861,12514.816827761053,12511.333978390583,12493.517711171662,12495.764759309719,12498.011807447774,12500.258855585831,12502.505903723888,12504.752951861943,12507.0,12445.102384291726,12437.34437425303,12431.479661568499,12420.688215379654,12420.499272668498,12407.406408370116,12432.330211529146,12445.497308758768,12467.744855967077,12496.694092479842,12501.731444211882,12499.599483621107,12528.609088903595,12768.285347043702,12610.325716639596,12452.36608623549,12528.154922779922,12527.45610478715,12513.873123716226,12512.658597925181,12512.139740752451,12494.242702789872,12479.72487113402,12464.37231844907,12463.230954676952,12452.119871794872,12445.014224069042,12432.371511068335,12444.189899967732,12509.526888503391,12601.11539122958,12793.062669245648,12800.294224924011,13060.964311726148,13265.680555555555,1551.6666666666667,6949.894192521878,12348.121718377088,12710.17733581935,12768.633440066824,12770.03405746321,12721.955408515536,12685.222287218485,12649.275007376807,12617.366616314199,12607.526694202234,12589.320032976093,12582.025117739404,12550.518006547836,12554.701449275362,12551.331105314639,12553.775702426565,12558.829433596902,12602.86309618127,12686.680385152975,12729.788905547226,12863.745130111523,12954.632120597187,12998.816,13191.187729417934,12347.263339070569,12854.648023143684,12917.327702174252,12591.587125416205,12727.32261277928,12724.461441390915,12702.410093299406,12680.354030024777,12636.156492460841,12617.39170025377,12595.17104870033,12568.767456359103,12567.085560651589,12562.714376793114,12580.55750967288,12569.857175778725,12559.15684188457,12548.456507990415,12537.75617409626,12527.055840202103,12516.35550630795,12505.655172413793,12670.550548112058,12949.987579354127,12966.49340943063,12934.081471389645,12825.675328190553,12801.273473857103,12770.494232353749,12784.846880644713,12753.334041950113,12698.178417884781,12672.12712360867,12642.366144018582,12602.055919548986,12578.627892529896,12567.778520360584,12561.772498426684,12554.972818311873,12538.467292644757,12564.674181932049,12582.078910505837,12659.979743008314,12737.50184774575,12876.793951671249,12990.336522462563,13046.897642088046,13036.745978552279,13060.020750199521,13044.90643969385,12911.957026100712,12862.818495422582,12868.965215082315,12849.295363173413,12790.772783505156,12727.329909960608,12684.95,12650.266842413592,12611.678048780488,12595.375272840662,12576.598430141288,12568.240813751774,12563.367025550378,12554.805828318023,12552.235933806147,12571.91761543327,12600.727919102545,12622.848646110502,12658.956528347773,12685.46102006433,12671.103391603168,12695.023139745916,12710.413418625409,12709.64303949542,12672.585813712423,12624.35816492108,12613.352693349383,12619.541423220973,12639.781269254467,12766.053278688525,12755.158579234972,12744.263879781422,12733.369180327869,12722.474480874318,12711.579781420765,12700.685081967213,12689.790382513662,12678.89568306011,12668.000983606558,12657.106284153006,12646.211584699455,12635.316885245902,12624.42218579235,12613.527486338799,12602.632786885246,12591.738087431695,12580.843387978142,12569.94868852459,12559.053989071039,12548.159289617486,12537.264590163935,12526.369890710383,12515.47519125683,12504.580491803279,12493.685792349726,12482.791092896176,12471.896393442623,12461.00169398907,12450.10699453552,12439.212295081967,12428.317595628416,12417.422896174863,12406.528196721312,12395.63349726776,12384.738797814207,12373.844098360656,12362.949398907103,12352.054699453553,12341.16,12689.07279780922,12856.752953958985,12794.303054989816,12703.175166598667,12667.300217746326,12686.514277831426,12684.114997875655,12642.026247848537,12617.128639334522,12579.718272227994,12548.80987394958,12543.47051634586,12522.794528968803,12514.867110148514,12513.837234706616,12509.258280205257,12503.31432588658,12528.120719311963,12557.673989321129,12638.339242788461,12674.156946072684,12852.012864228147,13345.381422924902,13097.659461462452,12849.9375,12706.444444444445,12411.08888888889,12505.534299516909,12728.039176360477,12722.702319935257,12733.877717767622,12687.484613212873,12638.02053915276,12605.06801416347,12591.593568557391,12577.2206,12683.439698492462],\"type\":\"scatter\"},{\"mode\":\"lines+markers\",\"name\":\"Test\",\"x\":[\"2021-03-30T19:00:00+00:00\",\"2021-03-30T20:00:00+00:00\",\"2021-03-30T21:00:00+00:00\",\"2021-03-30T22:00:00+00:00\",\"2021-03-30T23:00:00+00:00\",\"2021-03-31T00:00:00+00:00\",\"2021-03-31T01:00:00+00:00\",\"2021-03-31T02:00:00+00:00\",\"2021-03-31T03:00:00+00:00\",\"2021-03-31T04:00:00+00:00\",\"2021-03-31T05:00:00+00:00\",\"2021-03-31T06:00:00+00:00\",\"2021-03-31T07:00:00+00:00\",\"2021-03-31T08:00:00+00:00\",\"2021-03-31T09:00:00+00:00\",\"2021-03-31T10:00:00+00:00\",\"2021-03-31T11:00:00+00:00\",\"2021-03-31T12:00:00+00:00\",\"2021-03-31T13:00:00+00:00\",\"2021-03-31T14:00:00+00:00\",\"2021-03-31T15:00:00+00:00\",\"2021-03-31T16:00:00+00:00\",\"2021-03-31T17:00:00+00:00\",\"2021-03-31T18:00:00+00:00\",\"2021-03-31T19:00:00+00:00\",\"2021-03-31T20:00:00+00:00\",\"2021-03-31T21:00:00+00:00\",\"2021-03-31T22:00:00+00:00\",\"2021-03-31T23:00:00+00:00\",\"2021-04-01T00:00:00+00:00\",\"2021-04-01T01:00:00+00:00\",\"2021-04-01T02:00:00+00:00\",\"2021-04-01T03:00:00+00:00\",\"2021-04-01T04:00:00+00:00\",\"2021-04-01T05:00:00+00:00\",\"2021-04-01T06:00:00+00:00\",\"2021-04-01T07:00:00+00:00\",\"2021-04-01T08:00:00+00:00\",\"2021-04-01T09:00:00+00:00\",\"2021-04-01T10:00:00+00:00\",\"2021-04-01T11:00:00+00:00\",\"2021-04-01T12:00:00+00:00\",\"2021-04-01T13:00:00+00:00\",\"2021-04-01T14:00:00+00:00\",\"2021-04-01T15:00:00+00:00\",\"2021-04-01T16:00:00+00:00\",\"2021-04-01T17:00:00+00:00\",\"2021-04-01T18:00:00+00:00\",\"2021-04-01T19:00:00+00:00\",\"2021-04-01T20:00:00+00:00\",\"2021-04-01T21:00:00+00:00\",\"2021-04-01T22:00:00+00:00\",\"2021-04-01T23:00:00+00:00\",\"2021-04-02T00:00:00+00:00\",\"2021-04-02T01:00:00+00:00\",\"2021-04-02T02:00:00+00:00\",\"2021-04-02T03:00:00+00:00\",\"2021-04-02T04:00:00+00:00\",\"2021-04-02T05:00:00+00:00\",\"2021-04-02T06:00:00+00:00\",\"2021-04-02T07:00:00+00:00\",\"2021-04-02T08:00:00+00:00\",\"2021-04-02T09:00:00+00:00\",\"2021-04-02T10:00:00+00:00\",\"2021-04-02T11:00:00+00:00\",\"2021-04-02T12:00:00+00:00\",\"2021-04-02T13:00:00+00:00\",\"2021-04-02T14:00:00+00:00\",\"2021-04-02T15:00:00+00:00\",\"2021-04-02T16:00:00+00:00\",\"2021-04-02T17:00:00+00:00\",\"2021-04-02T18:00:00+00:00\",\"2021-04-02T19:00:00+00:00\",\"2021-04-02T20:00:00+00:00\",\"2021-04-02T21:00:00+00:00\",\"2021-04-02T22:00:00+00:00\",\"2021-04-02T23:00:00+00:00\",\"2021-04-03T00:00:00+00:00\",\"2021-04-03T01:00:00+00:00\",\"2021-04-03T02:00:00+00:00\",\"2021-04-03T03:00:00+00:00\",\"2021-04-03T04:00:00+00:00\",\"2021-04-03T05:00:00+00:00\",\"2021-04-03T06:00:00+00:00\",\"2021-04-03T07:00:00+00:00\",\"2021-04-03T08:00:00+00:00\",\"2021-04-03T09:00:00+00:00\",\"2021-04-03T10:00:00+00:00\",\"2021-04-03T11:00:00+00:00\",\"2021-04-03T12:00:00+00:00\",\"2021-04-03T13:00:00+00:00\",\"2021-04-03T14:00:00+00:00\",\"2021-04-03T15:00:00+00:00\",\"2021-04-03T16:00:00+00:00\",\"2021-04-03T17:00:00+00:00\",\"2021-04-03T18:00:00+00:00\",\"2021-04-03T19:00:00+00:00\",\"2021-04-03T20:00:00+00:00\",\"2021-04-03T21:00:00+00:00\",\"2021-04-03T22:00:00+00:00\",\"2021-04-03T23:00:00+00:00\",\"2021-04-04T00:00:00+00:00\",\"2021-04-04T01:00:00+00:00\",\"2021-04-04T02:00:00+00:00\",\"2021-04-04T03:00:00+00:00\",\"2021-04-04T04:00:00+00:00\",\"2021-04-04T05:00:00+00:00\",\"2021-04-04T06:00:00+00:00\",\"2021-04-04T07:00:00+00:00\",\"2021-04-04T08:00:00+00:00\",\"2021-04-04T09:00:00+00:00\",\"2021-04-04T10:00:00+00:00\",\"2021-04-04T11:00:00+00:00\",\"2021-04-04T12:00:00+00:00\",\"2021-04-04T13:00:00+00:00\",\"2021-04-04T14:00:00+00:00\",\"2021-04-04T15:00:00+00:00\",\"2021-04-04T16:00:00+00:00\",\"2021-04-04T17:00:00+00:00\",\"2021-04-04T18:00:00+00:00\",\"2021-04-04T19:00:00+00:00\",\"2021-04-04T20:00:00+00:00\",\"2021-04-04T21:00:00+00:00\",\"2021-04-04T22:00:00+00:00\",\"2021-04-04T23:00:00+00:00\",\"2021-04-05T00:00:00+00:00\",\"2021-04-05T01:00:00+00:00\",\"2021-04-05T02:00:00+00:00\"],\"y\":[11427.5,11440.76,11428.5,11425.16,11403.636363636364,11389.56,11383.47619047619,11346.125,11316.12,11281.173913043478,11242.875,11192.148148148148,11076.961538461539,10975.32142857143,10875.655172413793,10792.107142857143,10712.444444444445,10671.57142857143,10615.103448275862,10560.384615384615,10499.24,10466.3,10397.607142857143,10288.310344827587,10241.655172413793,10154.551724137931,10067.0,9995.433333333332,9902.962962962964,9736.25,9611.7,9606.192307692309,9572.785714285714,9570.892857142857,9557.384615384615,9540.17857142857,9542.76923076923,9554.75,9560.933333333332,9568.074074074075,9574.92857142857,9580.481481481482,9600.407407407407,9603.862068965518,9607.42857142857,9607.083333333334,9588.785714285714,9582.074074074075,9565.818181818182,9555.423076923076,9547.291666666666,9541.481481481482,9522.285714285714,9517.615384615385,9515.296296296296,9513.5,9494.73076923077,9492.758620689656,9495.42857142857,9482.782608695652,9476.0,9475.377142857144,9474.754285714285,9474.131428571429,9473.50857142857,9472.885714285714,9472.262857142856,9471.64,9248.0,9450.25,9469.0,9458.196428571428,9447.392857142857,9436.589285714286,9425.785714285714,9429.555555555555,9421.44,9420.888888888889,9415.714285714286,9399.07142857143,9382.428571428572,9365.785714285714,9349.142857142857,9332.5,9387.76923076923,9390.148148148148,9402.916666666666,9382.5,9370.714285714286,9369.23076923077,9325.4,9347.64,9360.62962962963,9364.153846153846,9353.272727272728,9338.63484848485,9323.996969696971,9309.35909090909,9294.721212121212,9280.083333333334,9304.92857142857,9304.346153846154,9293.76923076923,9266.153846153846,9257.44,9255.344827586207,9237.346153846154,9237.0,9173.75,9135.67857142857,8978.0,8633.551724137931,8357.233333333334,8111.0344827586205,7718.1,7642.271428571429,7566.442857142857,7490.614285714286,7414.785714285715,7338.9571428571435,7263.128571428571,7187.3,7039.896551724138,6813.928571428572,6533.206896551724,6334.103448275862,5220.466666666666,5300.25],\"type\":\"scatter\"}],                        {\"template\":{\"data\":{\"bar\":[{\"error_x\":{\"color\":\"#2a3f5f\"},\"error_y\":{\"color\":\"#2a3f5f\"},\"marker\":{\"line\":{\"color\":\"#E5ECF6\",\"width\":0.5},\"pattern\":{\"fillmode\":\"overlay\",\"size\":10,\"solidity\":0.2}},\"type\":\"bar\"}],\"barpolar\":[{\"marker\":{\"line\":{\"color\":\"#E5ECF6\",\"width\":0.5},\"pattern\":{\"fillmode\":\"overlay\",\"size\":10,\"solidity\":0.2}},\"type\":\"barpolar\"}],\"carpet\":[{\"aaxis\":{\"endlinecolor\":\"#2a3f5f\",\"gridcolor\":\"white\",\"linecolor\":\"white\",\"minorgridcolor\":\"white\",\"startlinecolor\":\"#2a3f5f\"},\"baxis\":{\"endlinecolor\":\"#2a3f5f\",\"gridcolor\":\"white\",\"linecolor\":\"white\",\"minorgridcolor\":\"white\",\"startlinecolor\":\"#2a3f5f\"},\"type\":\"carpet\"}],\"choropleth\":[{\"colorbar\":{\"outlinewidth\":0,\"ticks\":\"\"},\"type\":\"choropleth\"}],\"contour\":[{\"colorbar\":{\"outlinewidth\":0,\"ticks\":\"\"},\"colorscale\":[[0.0,\"#0d0887\"],[0.1111111111111111,\"#46039f\"],[0.2222222222222222,\"#7201a8\"],[0.3333333333333333,\"#9c179e\"],[0.4444444444444444,\"#bd3786\"],[0.5555555555555556,\"#d8576b\"],[0.6666666666666666,\"#ed7953\"],[0.7777777777777778,\"#fb9f3a\"],[0.8888888888888888,\"#fdca26\"],[1.0,\"#f0f921\"]],\"type\":\"contour\"}],\"contourcarpet\":[{\"colorbar\":{\"outlinewidth\":0,\"ticks\":\"\"},\"type\":\"contourcarpet\"}],\"heatmap\":[{\"colorbar\":{\"outlinewidth\":0,\"ticks\":\"\"},\"colorscale\":[[0.0,\"#0d0887\"],[0.1111111111111111,\"#46039f\"],[0.2222222222222222,\"#7201a8\"],[0.3333333333333333,\"#9c179e\"],[0.4444444444444444,\"#bd3786\"],[0.5555555555555556,\"#d8576b\"],[0.6666666666666666,\"#ed7953\"],[0.7777777777777778,\"#fb9f3a\"],[0.8888888888888888,\"#fdca26\"],[1.0,\"#f0f921\"]],\"type\":\"heatmap\"}],\"heatmapgl\":[{\"colorbar\":{\"outlinewidth\":0,\"ticks\":\"\"},\"colorscale\":[[0.0,\"#0d0887\"],[0.1111111111111111,\"#46039f\"],[0.2222222222222222,\"#7201a8\"],[0.3333333333333333,\"#9c179e\"],[0.4444444444444444,\"#bd3786\"],[0.5555555555555556,\"#d8576b\"],[0.6666666666666666,\"#ed7953\"],[0.7777777777777778,\"#fb9f3a\"],[0.8888888888888888,\"#fdca26\"],[1.0,\"#f0f921\"]],\"type\":\"heatmapgl\"}],\"histogram\":[{\"marker\":{\"pattern\":{\"fillmode\":\"overlay\",\"size\":10,\"solidity\":0.2}},\"type\":\"histogram\"}],\"histogram2d\":[{\"colorbar\":{\"outlinewidth\":0,\"ticks\":\"\"},\"colorscale\":[[0.0,\"#0d0887\"],[0.1111111111111111,\"#46039f\"],[0.2222222222222222,\"#7201a8\"],[0.3333333333333333,\"#9c179e\"],[0.4444444444444444,\"#bd3786\"],[0.5555555555555556,\"#d8576b\"],[0.6666666666666666,\"#ed7953\"],[0.7777777777777778,\"#fb9f3a\"],[0.8888888888888888,\"#fdca26\"],[1.0,\"#f0f921\"]],\"type\":\"histogram2d\"}],\"histogram2dcontour\":[{\"colorbar\":{\"outlinewidth\":0,\"ticks\":\"\"},\"colorscale\":[[0.0,\"#0d0887\"],[0.1111111111111111,\"#46039f\"],[0.2222222222222222,\"#7201a8\"],[0.3333333333333333,\"#9c179e\"],[0.4444444444444444,\"#bd3786\"],[0.5555555555555556,\"#d8576b\"],[0.6666666666666666,\"#ed7953\"],[0.7777777777777778,\"#fb9f3a\"],[0.8888888888888888,\"#fdca26\"],[1.0,\"#f0f921\"]],\"type\":\"histogram2dcontour\"}],\"mesh3d\":[{\"colorbar\":{\"outlinewidth\":0,\"ticks\":\"\"},\"type\":\"mesh3d\"}],\"parcoords\":[{\"line\":{\"colorbar\":{\"outlinewidth\":0,\"ticks\":\"\"}},\"type\":\"parcoords\"}],\"pie\":[{\"automargin\":true,\"type\":\"pie\"}],\"scatter\":[{\"marker\":{\"colorbar\":{\"outlinewidth\":0,\"ticks\":\"\"}},\"type\":\"scatter\"}],\"scatter3d\":[{\"line\":{\"colorbar\":{\"outlinewidth\":0,\"ticks\":\"\"}},\"marker\":{\"colorbar\":{\"outlinewidth\":0,\"ticks\":\"\"}},\"type\":\"scatter3d\"}],\"scattercarpet\":[{\"marker\":{\"colorbar\":{\"outlinewidth\":0,\"ticks\":\"\"}},\"type\":\"scattercarpet\"}],\"scattergeo\":[{\"marker\":{\"colorbar\":{\"outlinewidth\":0,\"ticks\":\"\"}},\"type\":\"scattergeo\"}],\"scattergl\":[{\"marker\":{\"colorbar\":{\"outlinewidth\":0,\"ticks\":\"\"}},\"type\":\"scattergl\"}],\"scattermapbox\":[{\"marker\":{\"colorbar\":{\"outlinewidth\":0,\"ticks\":\"\"}},\"type\":\"scattermapbox\"}],\"scatterpolar\":[{\"marker\":{\"colorbar\":{\"outlinewidth\":0,\"ticks\":\"\"}},\"type\":\"scatterpolar\"}],\"scatterpolargl\":[{\"marker\":{\"colorbar\":{\"outlinewidth\":0,\"ticks\":\"\"}},\"type\":\"scatterpolargl\"}],\"scatterternary\":[{\"marker\":{\"colorbar\":{\"outlinewidth\":0,\"ticks\":\"\"}},\"type\":\"scatterternary\"}],\"surface\":[{\"colorbar\":{\"outlinewidth\":0,\"ticks\":\"\"},\"colorscale\":[[0.0,\"#0d0887\"],[0.1111111111111111,\"#46039f\"],[0.2222222222222222,\"#7201a8\"],[0.3333333333333333,\"#9c179e\"],[0.4444444444444444,\"#bd3786\"],[0.5555555555555556,\"#d8576b\"],[0.6666666666666666,\"#ed7953\"],[0.7777777777777778,\"#fb9f3a\"],[0.8888888888888888,\"#fdca26\"],[1.0,\"#f0f921\"]],\"type\":\"surface\"}],\"table\":[{\"cells\":{\"fill\":{\"color\":\"#EBF0F8\"},\"line\":{\"color\":\"white\"}},\"header\":{\"fill\":{\"color\":\"#C8D4E3\"},\"line\":{\"color\":\"white\"}},\"type\":\"table\"}]},\"layout\":{\"annotationdefaults\":{\"arrowcolor\":\"#2a3f5f\",\"arrowhead\":0,\"arrowwidth\":1},\"autotypenumbers\":\"strict\",\"coloraxis\":{\"colorbar\":{\"outlinewidth\":0,\"ticks\":\"\"}},\"colorscale\":{\"diverging\":[[0,\"#8e0152\"],[0.1,\"#c51b7d\"],[0.2,\"#de77ae\"],[0.3,\"#f1b6da\"],[0.4,\"#fde0ef\"],[0.5,\"#f7f7f7\"],[0.6,\"#e6f5d0\"],[0.7,\"#b8e186\"],[0.8,\"#7fbc41\"],[0.9,\"#4d9221\"],[1,\"#276419\"]],\"sequential\":[[0.0,\"#0d0887\"],[0.1111111111111111,\"#46039f\"],[0.2222222222222222,\"#7201a8\"],[0.3333333333333333,\"#9c179e\"],[0.4444444444444444,\"#bd3786\"],[0.5555555555555556,\"#d8576b\"],[0.6666666666666666,\"#ed7953\"],[0.7777777777777778,\"#fb9f3a\"],[0.8888888888888888,\"#fdca26\"],[1.0,\"#f0f921\"]],\"sequentialminus\":[[0.0,\"#0d0887\"],[0.1111111111111111,\"#46039f\"],[0.2222222222222222,\"#7201a8\"],[0.3333333333333333,\"#9c179e\"],[0.4444444444444444,\"#bd3786\"],[0.5555555555555556,\"#d8576b\"],[0.6666666666666666,\"#ed7953\"],[0.7777777777777778,\"#fb9f3a\"],[0.8888888888888888,\"#fdca26\"],[1.0,\"#f0f921\"]]},\"colorway\":[\"#636efa\",\"#EF553B\",\"#00cc96\",\"#ab63fa\",\"#FFA15A\",\"#19d3f3\",\"#FF6692\",\"#B6E880\",\"#FF97FF\",\"#FECB52\"],\"font\":{\"color\":\"#2a3f5f\"},\"geo\":{\"bgcolor\":\"white\",\"lakecolor\":\"white\",\"landcolor\":\"#E5ECF6\",\"showlakes\":true,\"showland\":true,\"subunitcolor\":\"white\"},\"hoverlabel\":{\"align\":\"left\"},\"hovermode\":\"closest\",\"mapbox\":{\"style\":\"light\"},\"paper_bgcolor\":\"white\",\"plot_bgcolor\":\"#E5ECF6\",\"polar\":{\"angularaxis\":{\"gridcolor\":\"white\",\"linecolor\":\"white\",\"ticks\":\"\"},\"bgcolor\":\"#E5ECF6\",\"radialaxis\":{\"gridcolor\":\"white\",\"linecolor\":\"white\",\"ticks\":\"\"}},\"scene\":{\"xaxis\":{\"backgroundcolor\":\"#E5ECF6\",\"gridcolor\":\"white\",\"gridwidth\":2,\"linecolor\":\"white\",\"showbackground\":true,\"ticks\":\"\",\"zerolinecolor\":\"white\"},\"yaxis\":{\"backgroundcolor\":\"#E5ECF6\",\"gridcolor\":\"white\",\"gridwidth\":2,\"linecolor\":\"white\",\"showbackground\":true,\"ticks\":\"\",\"zerolinecolor\":\"white\"},\"zaxis\":{\"backgroundcolor\":\"#E5ECF6\",\"gridcolor\":\"white\",\"gridwidth\":2,\"linecolor\":\"white\",\"showbackground\":true,\"ticks\":\"\",\"zerolinecolor\":\"white\"}},\"shapedefaults\":{\"line\":{\"color\":\"#2a3f5f\"}},\"ternary\":{\"aaxis\":{\"gridcolor\":\"white\",\"linecolor\":\"white\",\"ticks\":\"\"},\"baxis\":{\"gridcolor\":\"white\",\"linecolor\":\"white\",\"ticks\":\"\"},\"bgcolor\":\"#E5ECF6\",\"caxis\":{\"gridcolor\":\"white\",\"linecolor\":\"white\",\"ticks\":\"\"}},\"title\":{\"x\":0.05},\"xaxis\":{\"automargin\":true,\"gridcolor\":\"white\",\"linecolor\":\"white\",\"ticks\":\"\",\"title\":{\"standoff\":15},\"zerolinecolor\":\"white\",\"zerolinewidth\":2},\"yaxis\":{\"automargin\":true,\"gridcolor\":\"white\",\"linecolor\":\"white\",\"ticks\":\"\",\"title\":{\"standoff\":15},\"zerolinecolor\":\"white\",\"zerolinewidth\":2}}},\"title\":{\"text\":\"Comparaison s\\u00e9rie train et test\"},\"xaxis\":{\"title\":{\"text\":\"Date\"}},\"yaxis\":{\"title\":{\"text\":\"Battery mV\"}}},                        {\"responsive\": true}                    ).then(function(){\n",
       "                            \n",
       "var gd = document.getElementById('83232f98-4856-4dc9-9845-956322e3e4d8');\n",
       "var x = new MutationObserver(function (mutations, observer) {{\n",
       "        var display = window.getComputedStyle(gd).display;\n",
       "        if (!display || display === 'none') {{\n",
       "            console.log([gd, 'removed!']);\n",
       "            Plotly.purge(gd);\n",
       "            observer.disconnect();\n",
       "        }}\n",
       "}});\n",
       "\n",
       "// Listen for the removal of the full notebook cells\n",
       "var notebookContainer = gd.closest('#notebook-container');\n",
       "if (notebookContainer) {{\n",
       "    x.observe(notebookContainer, {childList: true});\n",
       "}}\n",
       "\n",
       "// Listen for the clearing of the current output cell\n",
       "var outputEl = gd.closest('.output');\n",
       "if (outputEl) {{\n",
       "    x.observe(outputEl, {childList: true});\n",
       "}}\n",
       "\n",
       "                        })                };                });            </script>        </div>"
      ]
     },
     "metadata": {},
     "output_type": "display_data"
    }
   ],
   "source": [
    "fig = go.Figure()\n",
    "fig.add_trace(go.Scatter(x=resampled_train.dateTime, y=resampled_train['value'], mode='lines',name='Train'))\n",
    "fig.add_trace(go.Scatter(x=resampled_test.dateTime, y=resampled_test['value'],mode='lines+markers',name='Test'))\n",
    "fig.update_layout(title=\"Comparaison série train et test\",xaxis_title=\"Date\",yaxis_title=\"Battery mV\")\n",
    "fig.show()"
   ]
  },
  {
   "cell_type": "markdown",
   "id": "70ac3eea",
   "metadata": {},
   "source": [
    "# Isolation Forest"
   ]
  },
  {
   "cell_type": "markdown",
   "id": "0d57ac0f",
   "metadata": {},
   "source": [
    "Bashir Alam (25/04/2022). Isolation Forest. Consulté à l’adresse : https://hands-on.cloud/using-python-and-isolation-forest-algorithm-for-anomalies-detection/"
   ]
  },
  {
   "cell_type": "code",
   "execution_count": 346,
   "id": "e56e2a0c",
   "metadata": {},
   "outputs": [],
   "source": [
    "from sklearn.ensemble import IsolationForest"
   ]
  },
  {
   "cell_type": "code",
   "execution_count": 347,
   "id": "1eb13c78",
   "metadata": {},
   "outputs": [],
   "source": [
    "train = pd.DataFrame({'normalized_value': resampled_train.normalized_value})\n",
    "test = pd.DataFrame({'normalized_value': resampled_test.normalized_value})"
   ]
  },
  {
   "cell_type": "code",
   "execution_count": 348,
   "id": "16b33ff6",
   "metadata": {},
   "outputs": [
    {
     "name": "stderr",
     "output_type": "stream",
     "text": [
      "C:\\Users\\NGH\\anaconda3\\lib\\site-packages\\sklearn\\base.py:450: UserWarning:\n",
      "\n",
      "X does not have valid feature names, but IsolationForest was fitted with feature names\n",
      "\n"
     ]
    }
   ],
   "source": [
    "model = IsolationForest(contamination=float(0.01)).fit(train)\n",
    "test['anomaly'] = pd.Series(model.predict(test))"
   ]
  },
  {
   "cell_type": "code",
   "execution_count": 349,
   "id": "f315f0c8",
   "metadata": {},
   "outputs": [
    {
     "data": {
      "text/html": [
       "<div>\n",
       "<style scoped>\n",
       "    .dataframe tbody tr th:only-of-type {\n",
       "        vertical-align: middle;\n",
       "    }\n",
       "\n",
       "    .dataframe tbody tr th {\n",
       "        vertical-align: top;\n",
       "    }\n",
       "\n",
       "    .dataframe thead th {\n",
       "        text-align: right;\n",
       "    }\n",
       "</style>\n",
       "<table border=\"1\" class=\"dataframe\">\n",
       "  <thead>\n",
       "    <tr style=\"text-align: right;\">\n",
       "      <th></th>\n",
       "      <th>normalized_value</th>\n",
       "      <th>anomaly</th>\n",
       "      <th>value</th>\n",
       "    </tr>\n",
       "    <tr>\n",
       "      <th>dateTime</th>\n",
       "      <th></th>\n",
       "      <th></th>\n",
       "      <th></th>\n",
       "    </tr>\n",
       "  </thead>\n",
       "  <tbody>\n",
       "    <tr>\n",
       "      <th>2021-03-30 19:00:00+00:00</th>\n",
       "      <td>-0.692327</td>\n",
       "      <td>1</td>\n",
       "      <td>11427.500000</td>\n",
       "    </tr>\n",
       "    <tr>\n",
       "      <th>2021-03-30 20:00:00+00:00</th>\n",
       "      <td>-0.685589</td>\n",
       "      <td>1</td>\n",
       "      <td>11440.760000</td>\n",
       "    </tr>\n",
       "    <tr>\n",
       "      <th>2021-03-30 21:00:00+00:00</th>\n",
       "      <td>-0.691819</td>\n",
       "      <td>1</td>\n",
       "      <td>11428.500000</td>\n",
       "    </tr>\n",
       "    <tr>\n",
       "      <th>2021-03-30 22:00:00+00:00</th>\n",
       "      <td>-0.693516</td>\n",
       "      <td>1</td>\n",
       "      <td>11425.160000</td>\n",
       "    </tr>\n",
       "    <tr>\n",
       "      <th>2021-03-30 23:00:00+00:00</th>\n",
       "      <td>-0.704453</td>\n",
       "      <td>1</td>\n",
       "      <td>11403.636364</td>\n",
       "    </tr>\n",
       "    <tr>\n",
       "      <th>...</th>\n",
       "      <td>...</td>\n",
       "      <td>...</td>\n",
       "      <td>...</td>\n",
       "    </tr>\n",
       "    <tr>\n",
       "      <th>2021-04-04 22:00:00+00:00</th>\n",
       "      <td>-3.036622</td>\n",
       "      <td>1</td>\n",
       "      <td>6813.928571</td>\n",
       "    </tr>\n",
       "    <tr>\n",
       "      <th>2021-04-04 23:00:00+00:00</th>\n",
       "      <td>-3.179265</td>\n",
       "      <td>1</td>\n",
       "      <td>6533.206897</td>\n",
       "    </tr>\n",
       "    <tr>\n",
       "      <th>2021-04-05 00:00:00+00:00</th>\n",
       "      <td>-3.280435</td>\n",
       "      <td>1</td>\n",
       "      <td>6334.103448</td>\n",
       "    </tr>\n",
       "    <tr>\n",
       "      <th>2021-04-05 01:00:00+00:00</th>\n",
       "      <td>-3.846308</td>\n",
       "      <td>-1</td>\n",
       "      <td>5220.466667</td>\n",
       "    </tr>\n",
       "    <tr>\n",
       "      <th>2021-04-05 02:00:00+00:00</th>\n",
       "      <td>-3.805767</td>\n",
       "      <td>1</td>\n",
       "      <td>5300.250000</td>\n",
       "    </tr>\n",
       "  </tbody>\n",
       "</table>\n",
       "<p>128 rows × 3 columns</p>\n",
       "</div>"
      ],
      "text/plain": [
       "                           normalized_value  anomaly         value\n",
       "dateTime                                                          \n",
       "2021-03-30 19:00:00+00:00         -0.692327        1  11427.500000\n",
       "2021-03-30 20:00:00+00:00         -0.685589        1  11440.760000\n",
       "2021-03-30 21:00:00+00:00         -0.691819        1  11428.500000\n",
       "2021-03-30 22:00:00+00:00         -0.693516        1  11425.160000\n",
       "2021-03-30 23:00:00+00:00         -0.704453        1  11403.636364\n",
       "...                                     ...      ...           ...\n",
       "2021-04-04 22:00:00+00:00         -3.036622        1   6813.928571\n",
       "2021-04-04 23:00:00+00:00         -3.179265        1   6533.206897\n",
       "2021-04-05 00:00:00+00:00         -3.280435        1   6334.103448\n",
       "2021-04-05 01:00:00+00:00         -3.846308       -1   5220.466667\n",
       "2021-04-05 02:00:00+00:00         -3.805767        1   5300.250000\n",
       "\n",
       "[128 rows x 3 columns]"
      ]
     },
     "execution_count": 349,
     "metadata": {},
     "output_type": "execute_result"
    }
   ],
   "source": [
    "test = test.set_index(resampled_test.dateTime)\n",
    "test['value']=rs_inverse.inverse_transform(np.array(test['normalized_value']).reshape(-1, 1))\n",
    "test"
   ]
  },
  {
   "cell_type": "code",
   "execution_count": 350,
   "id": "f2cbc8d9",
   "metadata": {},
   "outputs": [
    {
     "data": {
      "text/html": [
       "<div>\n",
       "<style scoped>\n",
       "    .dataframe tbody tr th:only-of-type {\n",
       "        vertical-align: middle;\n",
       "    }\n",
       "\n",
       "    .dataframe tbody tr th {\n",
       "        vertical-align: top;\n",
       "    }\n",
       "\n",
       "    .dataframe thead th {\n",
       "        text-align: right;\n",
       "    }\n",
       "</style>\n",
       "<table border=\"1\" class=\"dataframe\">\n",
       "  <thead>\n",
       "    <tr style=\"text-align: right;\">\n",
       "      <th></th>\n",
       "      <th>normalized_value</th>\n",
       "      <th>anomaly</th>\n",
       "      <th>value</th>\n",
       "    </tr>\n",
       "    <tr>\n",
       "      <th>dateTime</th>\n",
       "      <th></th>\n",
       "      <th></th>\n",
       "      <th></th>\n",
       "    </tr>\n",
       "  </thead>\n",
       "  <tbody>\n",
       "    <tr>\n",
       "      <th>2021-04-05 01:00:00+00:00</th>\n",
       "      <td>-3.846308</td>\n",
       "      <td>-1</td>\n",
       "      <td>5220.466667</td>\n",
       "    </tr>\n",
       "  </tbody>\n",
       "</table>\n",
       "</div>"
      ],
      "text/plain": [
       "                           normalized_value  anomaly        value\n",
       "dateTime                                                         \n",
       "2021-04-05 01:00:00+00:00         -3.846308       -1  5220.466667"
      ]
     },
     "execution_count": 350,
     "metadata": {},
     "output_type": "execute_result"
    }
   ],
   "source": [
    "test.loc[test.anomaly == -1]"
   ]
  },
  {
   "cell_type": "code",
   "execution_count": 351,
   "id": "2527a54f",
   "metadata": {},
   "outputs": [
    {
     "data": {
      "text/html": [
       "<div>\n",
       "<style scoped>\n",
       "    .dataframe tbody tr th:only-of-type {\n",
       "        vertical-align: middle;\n",
       "    }\n",
       "\n",
       "    .dataframe tbody tr th {\n",
       "        vertical-align: top;\n",
       "    }\n",
       "\n",
       "    .dataframe thead th {\n",
       "        text-align: right;\n",
       "    }\n",
       "</style>\n",
       "<table border=\"1\" class=\"dataframe\">\n",
       "  <thead>\n",
       "    <tr style=\"text-align: right;\">\n",
       "      <th></th>\n",
       "      <th>_id</th>\n",
       "      <th>subject</th>\n",
       "      <th>description</th>\n",
       "      <th>type</th>\n",
       "      <th>externalId</th>\n",
       "      <th>name</th>\n",
       "      <th>time</th>\n",
       "      <th>code</th>\n",
       "      <th>status</th>\n",
       "      <th>nbOccurrence</th>\n",
       "      <th>lastOccurenceTime</th>\n",
       "      <th>createCaseResultDto._id</th>\n",
       "      <th>createCaseResultDto.success</th>\n",
       "      <th>createCaseResultDto.errors</th>\n",
       "      <th>_class</th>\n",
       "      <th>value</th>\n",
       "    </tr>\n",
       "  </thead>\n",
       "  <tbody>\n",
       "    <tr>\n",
       "      <th>18</th>\n",
       "      <td>86e5feb3-8795-4418-b33b-6803b7eae079</td>\n",
       "      <td>Tension batterie faible sur le parc PF-51443 (...</td>\n",
       "      <td>Tension batterie : 10220.0 milliVolts - Parc :...</td>\n",
       "      <td>LowBatteryVoltage</td>\n",
       "      <td>212014918915165</td>\n",
       "      <td>PF-51443</td>\n",
       "      <td>2021-03-31 14:47:42+00:00</td>\n",
       "      <td>LowBatteryVoltage</td>\n",
       "      <td>CLOSED</td>\n",
       "      <td>2</td>\n",
       "      <td>2021-03-31T14:47:42Z</td>\n",
       "      <td>5001x00000C5NWQAA3</td>\n",
       "      <td>True</td>\n",
       "      <td>[  ]</td>\n",
       "      <td>com.arkeup.data_iot.donnee.domainobject.AlertN...</td>\n",
       "      <td>10220.0</td>\n",
       "    </tr>\n",
       "    <tr>\n",
       "      <th>20</th>\n",
       "      <td>344e686f-f3a7-42e4-bed8-d7f89af4d3e3</td>\n",
       "      <td>Tension batterie faible sur le parc PF-51443 (...</td>\n",
       "      <td>Tension batterie : 10220.0 milliVolts - Parc :...</td>\n",
       "      <td>LowBatteryVoltage</td>\n",
       "      <td>212014918915165</td>\n",
       "      <td>PF-51443</td>\n",
       "      <td>2021-03-31 14:47:42+00:00</td>\n",
       "      <td>LowBatteryVoltage</td>\n",
       "      <td>CLOSED</td>\n",
       "      <td>1</td>\n",
       "      <td>2021-03-31T14:47:42Z</td>\n",
       "      <td>5001x00000C5NXdAAN</td>\n",
       "      <td>True</td>\n",
       "      <td>[  ]</td>\n",
       "      <td>com.arkeup.data_iot.donnee.domainobject.AlertN...</td>\n",
       "      <td>10220.0</td>\n",
       "    </tr>\n",
       "    <tr>\n",
       "      <th>21</th>\n",
       "      <td>9d43b76c-ab5e-421f-8d24-6fad1a9ce5cd</td>\n",
       "      <td>Tension batterie faible sur le parc PF-51443 (...</td>\n",
       "      <td>Tension batterie : 10220.0 milliVolts - Parc :...</td>\n",
       "      <td>LowBatteryVoltage</td>\n",
       "      <td>212014918915165</td>\n",
       "      <td>PF-51443</td>\n",
       "      <td>2021-03-31 14:47:42+00:00</td>\n",
       "      <td>LowBatteryVoltage</td>\n",
       "      <td>CLOSED</td>\n",
       "      <td>1</td>\n",
       "      <td>2021-03-31T14:47:42Z</td>\n",
       "      <td>5001x00000C5NZFAA3</td>\n",
       "      <td>True</td>\n",
       "      <td>[  ]</td>\n",
       "      <td>com.arkeup.data_iot.donnee.domainobject.AlertN...</td>\n",
       "      <td>10220.0</td>\n",
       "    </tr>\n",
       "    <tr>\n",
       "      <th>23</th>\n",
       "      <td>119fc501-dc59-40c4-9e85-ad5f4573e3e0</td>\n",
       "      <td>Tension batterie faible sur le parc PF-51443 (...</td>\n",
       "      <td>Tension batterie : 10091.0 milliVolts - Parc :...</td>\n",
       "      <td>LowBatteryVoltage</td>\n",
       "      <td>212014918915165</td>\n",
       "      <td>PF-51443</td>\n",
       "      <td>2021-03-31 15:50:10+00:00</td>\n",
       "      <td>LowBatteryVoltage</td>\n",
       "      <td>PROCESSING</td>\n",
       "      <td>1</td>\n",
       "      <td>2021-03-31T15:50:10Z</td>\n",
       "      <td>5001x00000C5NguAAF</td>\n",
       "      <td>True</td>\n",
       "      <td>[  ]</td>\n",
       "      <td>com.arkeup.data_iot.donnee.domainobject.AlertN...</td>\n",
       "      <td>10091.0</td>\n",
       "    </tr>\n",
       "  </tbody>\n",
       "</table>\n",
       "</div>"
      ],
      "text/plain": [
       "                                     _id  \\\n",
       "18  86e5feb3-8795-4418-b33b-6803b7eae079   \n",
       "20  344e686f-f3a7-42e4-bed8-d7f89af4d3e3   \n",
       "21  9d43b76c-ab5e-421f-8d24-6fad1a9ce5cd   \n",
       "23  119fc501-dc59-40c4-9e85-ad5f4573e3e0   \n",
       "\n",
       "                                              subject  \\\n",
       "18  Tension batterie faible sur le parc PF-51443 (...   \n",
       "20  Tension batterie faible sur le parc PF-51443 (...   \n",
       "21  Tension batterie faible sur le parc PF-51443 (...   \n",
       "23  Tension batterie faible sur le parc PF-51443 (...   \n",
       "\n",
       "                                          description               type  \\\n",
       "18  Tension batterie : 10220.0 milliVolts - Parc :...  LowBatteryVoltage   \n",
       "20  Tension batterie : 10220.0 milliVolts - Parc :...  LowBatteryVoltage   \n",
       "21  Tension batterie : 10220.0 milliVolts - Parc :...  LowBatteryVoltage   \n",
       "23  Tension batterie : 10091.0 milliVolts - Parc :...  LowBatteryVoltage   \n",
       "\n",
       "         externalId      name                      time               code  \\\n",
       "18  212014918915165  PF-51443 2021-03-31 14:47:42+00:00  LowBatteryVoltage   \n",
       "20  212014918915165  PF-51443 2021-03-31 14:47:42+00:00  LowBatteryVoltage   \n",
       "21  212014918915165  PF-51443 2021-03-31 14:47:42+00:00  LowBatteryVoltage   \n",
       "23  212014918915165  PF-51443 2021-03-31 15:50:10+00:00  LowBatteryVoltage   \n",
       "\n",
       "        status  nbOccurrence     lastOccurenceTime createCaseResultDto._id  \\\n",
       "18      CLOSED             2  2021-03-31T14:47:42Z      5001x00000C5NWQAA3   \n",
       "20      CLOSED             1  2021-03-31T14:47:42Z      5001x00000C5NXdAAN   \n",
       "21      CLOSED             1  2021-03-31T14:47:42Z      5001x00000C5NZFAA3   \n",
       "23  PROCESSING             1  2021-03-31T15:50:10Z      5001x00000C5NguAAF   \n",
       "\n",
       "    createCaseResultDto.success createCaseResultDto.errors  \\\n",
       "18                         True                       [  ]   \n",
       "20                         True                       [  ]   \n",
       "21                         True                       [  ]   \n",
       "23                         True                       [  ]   \n",
       "\n",
       "                                               _class    value  \n",
       "18  com.arkeup.data_iot.donnee.domainobject.AlertN...  10220.0  \n",
       "20  com.arkeup.data_iot.donnee.domainobject.AlertN...  10220.0  \n",
       "21  com.arkeup.data_iot.donnee.domainobject.AlertN...  10220.0  \n",
       "23  com.arkeup.data_iot.donnee.domainobject.AlertN...  10091.0  "
      ]
     },
     "execution_count": 351,
     "metadata": {},
     "output_type": "execute_result"
    }
   ],
   "source": [
    "alert_df[alert_df.name == 'PF-51443'] #véhicule léger"
   ]
  },
  {
   "cell_type": "code",
   "execution_count": 352,
   "id": "692166c5",
   "metadata": {},
   "outputs": [
    {
     "data": {
      "text/html": [
       "<div>\n",
       "<style scoped>\n",
       "    .dataframe tbody tr th:only-of-type {\n",
       "        vertical-align: middle;\n",
       "    }\n",
       "\n",
       "    .dataframe tbody tr th {\n",
       "        vertical-align: top;\n",
       "    }\n",
       "\n",
       "    .dataframe thead th {\n",
       "        text-align: right;\n",
       "    }\n",
       "</style>\n",
       "<table border=\"1\" class=\"dataframe\">\n",
       "  <thead>\n",
       "    <tr style=\"text-align: right;\">\n",
       "      <th></th>\n",
       "      <th>_id</th>\n",
       "      <th>subject</th>\n",
       "      <th>description</th>\n",
       "      <th>type</th>\n",
       "      <th>externalId</th>\n",
       "      <th>name</th>\n",
       "      <th>time</th>\n",
       "      <th>code</th>\n",
       "      <th>status</th>\n",
       "      <th>nbOccurrence</th>\n",
       "      <th>lastOccurenceTime</th>\n",
       "      <th>createCaseResultDto._id</th>\n",
       "      <th>createCaseResultDto.success</th>\n",
       "      <th>createCaseResultDto.errors</th>\n",
       "      <th>_class</th>\n",
       "      <th>value</th>\n",
       "    </tr>\n",
       "  </thead>\n",
       "  <tbody>\n",
       "    <tr>\n",
       "      <th>2</th>\n",
       "      <td>f66cf532-01e6-45e7-9d90-ec996ac65c38</td>\n",
       "      <td>Tension batterie faible sur le parc PF-85403 (...</td>\n",
       "      <td>Tension batterie : 23624.0 milliVolts - Parc :...</td>\n",
       "      <td>LowBatteryVoltage</td>\n",
       "      <td>212014918914853</td>\n",
       "      <td>PF-85403</td>\n",
       "      <td>2021-03-31 10:51:57+00:00</td>\n",
       "      <td>LowBatteryVoltage</td>\n",
       "      <td>CLOSED</td>\n",
       "      <td>2</td>\n",
       "      <td>2021-03-31T11:56:21Z</td>\n",
       "      <td>5001x00000C5MB4AAN</td>\n",
       "      <td>True</td>\n",
       "      <td>[  ]</td>\n",
       "      <td>com.arkeup.data_iot.donnee.domainobject.AlertN...</td>\n",
       "      <td>23624.0</td>\n",
       "    </tr>\n",
       "    <tr>\n",
       "      <th>16</th>\n",
       "      <td>e5390d6d-acd5-49cb-862f-5b40b95d3dac</td>\n",
       "      <td>Tension batterie faible sur le parc PF-85403 (...</td>\n",
       "      <td>Tension batterie : 665.0 milliVolts - Parc : P...</td>\n",
       "      <td>LowBatteryVoltage</td>\n",
       "      <td>212014918914853</td>\n",
       "      <td>PF-85403</td>\n",
       "      <td>2021-03-31 14:29:24+00:00</td>\n",
       "      <td>LowBatteryVoltage</td>\n",
       "      <td>CLOSED</td>\n",
       "      <td>1</td>\n",
       "      <td>2021-03-31T14:29:24Z</td>\n",
       "      <td>5001x00000C5NU0AAN</td>\n",
       "      <td>True</td>\n",
       "      <td>[  ]</td>\n",
       "      <td>com.arkeup.data_iot.donnee.domainobject.AlertN...</td>\n",
       "      <td>665.0</td>\n",
       "    </tr>\n",
       "  </tbody>\n",
       "</table>\n",
       "</div>"
      ],
      "text/plain": [
       "                                     _id  \\\n",
       "2   f66cf532-01e6-45e7-9d90-ec996ac65c38   \n",
       "16  e5390d6d-acd5-49cb-862f-5b40b95d3dac   \n",
       "\n",
       "                                              subject  \\\n",
       "2   Tension batterie faible sur le parc PF-85403 (...   \n",
       "16  Tension batterie faible sur le parc PF-85403 (...   \n",
       "\n",
       "                                          description               type  \\\n",
       "2   Tension batterie : 23624.0 milliVolts - Parc :...  LowBatteryVoltage   \n",
       "16  Tension batterie : 665.0 milliVolts - Parc : P...  LowBatteryVoltage   \n",
       "\n",
       "         externalId      name                      time               code  \\\n",
       "2   212014918914853  PF-85403 2021-03-31 10:51:57+00:00  LowBatteryVoltage   \n",
       "16  212014918914853  PF-85403 2021-03-31 14:29:24+00:00  LowBatteryVoltage   \n",
       "\n",
       "    status  nbOccurrence     lastOccurenceTime createCaseResultDto._id  \\\n",
       "2   CLOSED             2  2021-03-31T11:56:21Z      5001x00000C5MB4AAN   \n",
       "16  CLOSED             1  2021-03-31T14:29:24Z      5001x00000C5NU0AAN   \n",
       "\n",
       "    createCaseResultDto.success createCaseResultDto.errors  \\\n",
       "2                          True                       [  ]   \n",
       "16                         True                       [  ]   \n",
       "\n",
       "                                               _class    value  \n",
       "2   com.arkeup.data_iot.donnee.domainobject.AlertN...  23624.0  \n",
       "16  com.arkeup.data_iot.donnee.domainobject.AlertN...    665.0  "
      ]
     },
     "execution_count": 352,
     "metadata": {},
     "output_type": "execute_result"
    }
   ],
   "source": [
    "alert_df[alert_df.name == 'PF-85403'] #véhicule lourd"
   ]
  },
  {
   "cell_type": "markdown",
   "id": "92cadc94",
   "metadata": {},
   "source": [
    "En comparant avec le dataset AlertNotif et entraînant l'Isolation Forest avec les véhicules légers, on constate que nous n'obtenons pas les mêmes anomalies."
   ]
  },
  {
   "cell_type": "markdown",
   "id": "86eef36d",
   "metadata": {},
   "source": [
    "Si dans te le train, on prend juste un véhicule du même gabarit, c'est encore pire parce que toutes les données sont presques anormales."
   ]
  },
  {
   "cell_type": "markdown",
   "id": "26efb1e5",
   "metadata": {},
   "source": [
    "Idem quand je veux faire le test avec un véhicule de poids lourd."
   ]
  },
  {
   "cell_type": "code",
   "execution_count": 353,
   "id": "b939ad3d",
   "metadata": {},
   "outputs": [
    {
     "data": {
      "image/png": "[encoded data removed]",
      "text/plain": [
       "<Figure size 720x432 with 1 Axes>"
      ]
     },
     "metadata": {
      "needs_background": "light"
     },
     "output_type": "display_data"
    }
   ],
   "source": [
    "fig, ax = plt.subplots(figsize=(10,6))\n",
    "a = test.loc[test['anomaly'] == -1, ['normalized_value']] #anomaly\n",
    "ax.plot(test.index,  rs_inverse.inverse_transform(np.array(test['normalized_value']).reshape(-1, 1)), color='black', label = 'Normal')\n",
    "ax.scatter(a.index, rs_inverse.inverse_transform(np.array(a['normalized_value']).reshape(-1, 1)), color='red', label = 'Anomaly')\n",
    "plt.legend()\n",
    "plt.show();"
   ]
  },
  {
   "cell_type": "markdown",
   "id": "552c5d40",
   "metadata": {},
   "source": [
    "# Neural Network"
   ]
  },
  {
   "cell_type": "markdown",
   "id": "c37bda17",
   "metadata": {},
   "source": [
    "Jason Brownlee (21/07/2016). Time Series Prediction with LSTM Recurrent Neural Networks. Consulté à l’adresse : https://machinelearningmastery.com/time-series-prediction-lstm-recurrent-neural-networks-python-keras/"
   ]
  },
  {
   "cell_type": "code",
   "execution_count": 354,
   "id": "91ed10c9",
   "metadata": {},
   "outputs": [],
   "source": [
    "import tensorflow as tf\n",
    "from tensorflow import keras"
   ]
  },
  {
   "cell_type": "code",
   "execution_count": 355,
   "id": "7307749e",
   "metadata": {},
   "outputs": [],
   "source": [
    "train, test = resampled_train, resampled_test"
   ]
  },
  {
   "cell_type": "code",
   "execution_count": 356,
   "id": "be6a9681",
   "metadata": {},
   "outputs": [],
   "source": [
    "def create_dataset(X,Y,time_steps=1): # crée nos datasets train et test\n",
    "    Xs, Ys = [],[]\n",
    "    for i in range(len(X)-time_steps):\n",
    "        v=X.iloc[i:(i+time_steps)].values\n",
    "        Xs.append(v)\n",
    "        Ys.append(Y.iloc[i+time_steps])\n",
    "        \n",
    "    return np.array(Xs), np.array(Ys)"
   ]
  },
  {
   "cell_type": "code",
   "execution_count": 357,
   "id": "bb3415bf",
   "metadata": {},
   "outputs": [],
   "source": [
    "TIME_STEPS = 24\n",
    "\n",
    "X_train, Y_train = create_dataset(train[['normalized_value']], train.normalized_value, TIME_STEPS)\n",
    "X_test, Y_test = create_dataset(test[['normalized_value']], test.normalized_value, TIME_STEPS)"
   ]
  },
  {
   "cell_type": "code",
   "execution_count": 358,
   "id": "03de23c5",
   "metadata": {},
   "outputs": [],
   "source": [
    "model = keras.Sequential()\n",
    "model.add(keras.layers.LSTM(64,input_shape=(X_train.shape[1],X_train.shape[2])))\n",
    "model.add(keras.layers.Dropout(rate=0.2))\n",
    "model.add(keras.layers.RepeatVector(n=X_train.shape[1]))\n",
    "model.add(keras.layers.LSTM(64,return_sequences=True))\n",
    "model.add(keras.layers.Dropout(rate=0.2))\n",
    "model.add(keras.layers.TimeDistributed(keras.layers.Dense(X_train.shape[2])))\n",
    "model.compile(loss='mae', optimizer='adam')"
   ]
  },
  {
   "cell_type": "code",
   "execution_count": 359,
   "id": "f19e0625",
   "metadata": {},
   "outputs": [
    {
     "name": "stdout",
     "output_type": "stream",
     "text": [
      "Epoch 1/10\n",
      "1/1 [==============================] - 8s 8s/step - loss: 0.1900 - val_loss: 0.0747\n",
      "Epoch 2/10\n",
      "1/1 [==============================] - 0s 220ms/step - loss: 0.1821 - val_loss: 0.0656\n",
      "Epoch 3/10\n",
      "1/1 [==============================] - 0s 210ms/step - loss: 0.1768 - val_loss: 0.0618\n",
      "Epoch 4/10\n",
      "1/1 [==============================] - 0s 210ms/step - loss: 0.1724 - val_loss: 0.0605\n",
      "Epoch 5/10\n",
      "1/1 [==============================] - 0s 215ms/step - loss: 0.1694 - val_loss: 0.0602\n",
      "Epoch 6/10\n",
      "1/1 [==============================] - 0s 332ms/step - loss: 0.1686 - val_loss: 0.0603\n",
      "Epoch 7/10\n",
      "1/1 [==============================] - 0s 258ms/step - loss: 0.1693 - val_loss: 0.0603\n",
      "Epoch 8/10\n",
      "1/1 [==============================] - 0s 219ms/step - loss: 0.1698 - val_loss: 0.0604\n",
      "Epoch 9/10\n",
      "1/1 [==============================] - 0s 219ms/step - loss: 0.1698 - val_loss: 0.0603\n",
      "Epoch 10/10\n",
      "1/1 [==============================] - 0s 225ms/step - loss: 0.1692 - val_loss: 0.0602\n"
     ]
    }
   ],
   "source": [
    "history=model.fit(X_train, Y_train,epochs=10,batch_size=64*8,validation_split = 0.1,shuffle=False)"
   ]
  },
  {
   "cell_type": "code",
   "execution_count": 360,
   "id": "a5eab5f0",
   "metadata": {},
   "outputs": [
    {
     "name": "stdout",
     "output_type": "stream",
     "text": [
      "11/11 [==============================] - 1s 11ms/step\n"
     ]
    },
    {
     "name": "stderr",
     "output_type": "stream",
     "text": [
      "C:\\Users\\NGH\\anaconda3\\lib\\site-packages\\seaborn\\distributions.py:2619: FutureWarning:\n",
      "\n",
      "`distplot` is a deprecated function and will be removed in a future version. Please adapt your code to use either `displot` (a figure-level function with similar flexibility) or `histplot` (an axes-level function for histograms).\n",
      "\n"
     ]
    },
    {
     "data": {
      "image/png": "[encoded data removed]",
      "text/plain": [
       "<Figure size 432x288 with 1 Axes>"
      ]
     },
     "metadata": {
      "needs_background": "light"
     },
     "output_type": "display_data"
    }
   ],
   "source": [
    "import seaborn as sns\n",
    "X_train_pred = model.predict(X_train)\n",
    "train_mae_loss = np.mean(np.abs(X_train_pred-X_train),axis=1)\n",
    "sns.distplot(train_mae_loss, bins=50, kde=True);"
   ]
  },
  {
   "cell_type": "code",
   "execution_count": 361,
   "id": "d5b1bc2b",
   "metadata": {},
   "outputs": [
    {
     "name": "stdout",
     "output_type": "stream",
     "text": [
      "4/4 [==============================] - 0s 11ms/step\n"
     ]
    },
    {
     "name": "stderr",
     "output_type": "stream",
     "text": [
      "C:\\Users\\NGH\\anaconda3\\lib\\site-packages\\seaborn\\distributions.py:2619: FutureWarning:\n",
      "\n",
      "`distplot` is a deprecated function and will be removed in a future version. Please adapt your code to use either `displot` (a figure-level function with similar flexibility) or `histplot` (an axes-level function for histograms).\n",
      "\n"
     ]
    },
    {
     "data": {
      "image/png": "[encoded data removed]",
      "text/plain": [
       "<Figure size 432x288 with 1 Axes>"
      ]
     },
     "metadata": {
      "needs_background": "light"
     },
     "output_type": "display_data"
    }
   ],
   "source": [
    "X_test_pred = model.predict(X_test)\n",
    "test_mae_loss = np.mean(np.abs(X_test_pred-X_test),axis=1)\n",
    "sns.distplot(test_mae_loss, bins=50, kde=True);"
   ]
  },
  {
   "cell_type": "code",
   "execution_count": 362,
   "id": "8ce2387d",
   "metadata": {},
   "outputs": [],
   "source": [
    "#seuil à choisir pour couper les données normales / anormales\n",
    "#seuils véhicule léger en test\n",
    "THRESHOLD = 2.0 #  (train 1 véhicule et les autres véhicules de même gabarit)\n",
    "#THRESHOLD = 3.0 # seuil train dataset entier\n",
    "\n",
    "#seuils véhicule lourd en test\n",
    "#THRESHOLD = 5.75 #  (train 1 véhicule)\n",
    "#THRESHOLD = 2.5 #  (train avec les autres véhicules de même gabarit)\n",
    "#THRESHOLD = 4.0 # seuil train dataset entier\n",
    "\n",
    "test_score_df = test[TIME_STEPS:].copy()\n",
    "test_score_df['loss']= test_mae_loss\n",
    "test_score_df['threshold']= THRESHOLD\n",
    "test_score_df['anomaly']=test_score_df.loss > test_score_df.threshold"
   ]
  },
  {
   "cell_type": "code",
   "execution_count": 363,
   "id": "ada55d36",
   "metadata": {},
   "outputs": [
    {
     "data": {
      "image/png": "[encoded data removed]",
      "text/plain": [
       "<Figure size 432x288 with 1 Axes>"
      ]
     },
     "metadata": {
      "needs_background": "light"
     },
     "output_type": "display_data"
    }
   ],
   "source": [
    "plt.plot(test_score_df.index, test_score_df.loss, label='loss')\n",
    "plt.plot(test_score_df.index, test_score_df.threshold, label='threshold')\n",
    "plt.legend();"
   ]
  },
  {
   "cell_type": "code",
   "execution_count": 364,
   "id": "1a1abc48",
   "metadata": {},
   "outputs": [
    {
     "data": {
      "text/html": [
       "<div>\n",
       "<style scoped>\n",
       "    .dataframe tbody tr th:only-of-type {\n",
       "        vertical-align: middle;\n",
       "    }\n",
       "\n",
       "    .dataframe tbody tr th {\n",
       "        vertical-align: top;\n",
       "    }\n",
       "\n",
       "    .dataframe thead th {\n",
       "        text-align: right;\n",
       "    }\n",
       "</style>\n",
       "<table border=\"1\" class=\"dataframe\">\n",
       "  <thead>\n",
       "    <tr style=\"text-align: right;\">\n",
       "      <th></th>\n",
       "      <th>dateTime</th>\n",
       "      <th>id</th>\n",
       "      <th>externalId</th>\n",
       "      <th>value</th>\n",
       "      <th>normalized_value</th>\n",
       "      <th>loss</th>\n",
       "      <th>threshold</th>\n",
       "      <th>anomaly</th>\n",
       "    </tr>\n",
       "  </thead>\n",
       "  <tbody>\n",
       "    <tr>\n",
       "      <th>119</th>\n",
       "      <td>2021-04-04 18:00:00+00:00</td>\n",
       "      <td>508895.357143</td>\n",
       "      <td>2.120149e+14</td>\n",
       "      <td>7338.957143</td>\n",
       "      <td>-2.769839</td>\n",
       "      <td>2.043856</td>\n",
       "      <td>2.0</td>\n",
       "      <td>True</td>\n",
       "    </tr>\n",
       "    <tr>\n",
       "      <th>120</th>\n",
       "      <td>2021-04-04 19:00:00+00:00</td>\n",
       "      <td>352081.028571</td>\n",
       "      <td>2.120149e+14</td>\n",
       "      <td>7263.128571</td>\n",
       "      <td>-2.808370</td>\n",
       "      <td>2.090574</td>\n",
       "      <td>2.0</td>\n",
       "      <td>True</td>\n",
       "    </tr>\n",
       "    <tr>\n",
       "      <th>121</th>\n",
       "      <td>2021-04-04 20:00:00+00:00</td>\n",
       "      <td>195266.700000</td>\n",
       "      <td>2.120149e+14</td>\n",
       "      <td>7187.300000</td>\n",
       "      <td>-2.846900</td>\n",
       "      <td>2.138178</td>\n",
       "      <td>2.0</td>\n",
       "      <td>True</td>\n",
       "    </tr>\n",
       "    <tr>\n",
       "      <th>122</th>\n",
       "      <td>2021-04-04 21:00:00+00:00</td>\n",
       "      <td>562412.344828</td>\n",
       "      <td>2.120149e+14</td>\n",
       "      <td>7039.896552</td>\n",
       "      <td>-2.921801</td>\n",
       "      <td>2.186746</td>\n",
       "      <td>2.0</td>\n",
       "      <td>True</td>\n",
       "    </tr>\n",
       "    <tr>\n",
       "      <th>123</th>\n",
       "      <td>2021-04-04 22:00:00+00:00</td>\n",
       "      <td>973765.785714</td>\n",
       "      <td>2.120149e+14</td>\n",
       "      <td>6813.928571</td>\n",
       "      <td>-3.036622</td>\n",
       "      <td>2.238053</td>\n",
       "      <td>2.0</td>\n",
       "      <td>True</td>\n",
       "    </tr>\n",
       "    <tr>\n",
       "      <th>124</th>\n",
       "      <td>2021-04-04 23:00:00+00:00</td>\n",
       "      <td>619542.448276</td>\n",
       "      <td>2.120149e+14</td>\n",
       "      <td>6533.206897</td>\n",
       "      <td>-3.179265</td>\n",
       "      <td>2.294239</td>\n",
       "      <td>2.0</td>\n",
       "      <td>True</td>\n",
       "    </tr>\n",
       "    <tr>\n",
       "      <th>125</th>\n",
       "      <td>2021-04-05 00:00:00+00:00</td>\n",
       "      <td>363955.482759</td>\n",
       "      <td>2.120149e+14</td>\n",
       "      <td>6334.103448</td>\n",
       "      <td>-3.280435</td>\n",
       "      <td>2.357635</td>\n",
       "      <td>2.0</td>\n",
       "      <td>True</td>\n",
       "    </tr>\n",
       "    <tr>\n",
       "      <th>126</th>\n",
       "      <td>2021-04-05 01:00:00+00:00</td>\n",
       "      <td>942111.466667</td>\n",
       "      <td>2.120149e+14</td>\n",
       "      <td>5220.466667</td>\n",
       "      <td>-3.846308</td>\n",
       "      <td>2.425825</td>\n",
       "      <td>2.0</td>\n",
       "      <td>True</td>\n",
       "    </tr>\n",
       "    <tr>\n",
       "      <th>127</th>\n",
       "      <td>2021-04-05 02:00:00+00:00</td>\n",
       "      <td>519885.250000</td>\n",
       "      <td>2.120149e+14</td>\n",
       "      <td>5300.250000</td>\n",
       "      <td>-3.805767</td>\n",
       "      <td>2.519345</td>\n",
       "      <td>2.0</td>\n",
       "      <td>True</td>\n",
       "    </tr>\n",
       "  </tbody>\n",
       "</table>\n",
       "</div>"
      ],
      "text/plain": [
       "                     dateTime             id    externalId        value  \\\n",
       "119 2021-04-04 18:00:00+00:00  508895.357143  2.120149e+14  7338.957143   \n",
       "120 2021-04-04 19:00:00+00:00  352081.028571  2.120149e+14  7263.128571   \n",
       "121 2021-04-04 20:00:00+00:00  195266.700000  2.120149e+14  7187.300000   \n",
       "122 2021-04-04 21:00:00+00:00  562412.344828  2.120149e+14  7039.896552   \n",
       "123 2021-04-04 22:00:00+00:00  973765.785714  2.120149e+14  6813.928571   \n",
       "124 2021-04-04 23:00:00+00:00  619542.448276  2.120149e+14  6533.206897   \n",
       "125 2021-04-05 00:00:00+00:00  363955.482759  2.120149e+14  6334.103448   \n",
       "126 2021-04-05 01:00:00+00:00  942111.466667  2.120149e+14  5220.466667   \n",
       "127 2021-04-05 02:00:00+00:00  519885.250000  2.120149e+14  5300.250000   \n",
       "\n",
       "     normalized_value      loss  threshold  anomaly  \n",
       "119         -2.769839  2.043856        2.0     True  \n",
       "120         -2.808370  2.090574        2.0     True  \n",
       "121         -2.846900  2.138178        2.0     True  \n",
       "122         -2.921801  2.186746        2.0     True  \n",
       "123         -3.036622  2.238053        2.0     True  \n",
       "124         -3.179265  2.294239        2.0     True  \n",
       "125         -3.280435  2.357635        2.0     True  \n",
       "126         -3.846308  2.425825        2.0     True  \n",
       "127         -3.805767  2.519345        2.0     True  "
      ]
     },
     "execution_count": 364,
     "metadata": {},
     "output_type": "execute_result"
    }
   ],
   "source": [
    "anomalies= test_score_df[test_score_df.anomaly == True]\n",
    "anomalies"
   ]
  },
  {
   "cell_type": "code",
   "execution_count": 365,
   "id": "78461972",
   "metadata": {},
   "outputs": [
    {
     "name": "stderr",
     "output_type": "stream",
     "text": [
      "C:\\Users\\NGH\\AppData\\Local\\Temp\\ipykernel_16956\\514807979.py:1: SettingWithCopyWarning:\n",
      "\n",
      "\n",
      "A value is trying to be set on a copy of a slice from a DataFrame.\n",
      "Try using .loc[row_indexer,col_indexer] = value instead\n",
      "\n",
      "See the caveats in the documentation: https://pandas.pydata.org/pandas-docs/stable/user_guide/indexing.html#returning-a-view-versus-a-copy\n",
      "\n",
      "C:\\Users\\NGH\\anaconda3\\lib\\site-packages\\seaborn\\_decorators.py:36: FutureWarning:\n",
      "\n",
      "Pass the following variables as keyword args: x, y. From version 0.12, the only valid positional argument will be `data`, and passing other arguments without an explicit keyword will result in an error or misinterpretation.\n",
      "\n"
     ]
    },
    {
     "data": {
      "image/png": "[encoded data removed]",
      "text/plain": [
       "<Figure size 432x288 with 1 Axes>"
      ]
     },
     "metadata": {
      "needs_background": "light"
     },
     "output_type": "display_data"
    }
   ],
   "source": [
    "anomalies['battery']=rs_inverse.inverse_transform(np.array(anomalies.normalized_value).reshape(-1, 1))\n",
    "plt.plot(test[TIME_STEPS:].dateTime, rs_inverse.inverse_transform(np.array(test_score_df['normalized_value']).reshape(-1, 1)),label='Battery mV')\n",
    "sns.scatterplot(anomalies.dateTime, anomalies['battery'],color=sns.color_palette()[3], s=52, label='anomaly')\n",
    "plt.xticks(rotation=25)\n",
    "plt.legend();"
   ]
  },
  {
   "cell_type": "code",
   "execution_count": null,
   "id": "2091783b",
   "metadata": {},
   "outputs": [],
   "source": []
  }
 ],
 "metadata": {
  "kernelspec": {
   "display_name": "Python 3 (ipykernel)",
   "language": "python",
   "name": "python3"
  },
  "language_info": {
   "codemirror_mode": {
    "name": "ipython",
    "version": 3
   },
   "file_extension": ".py",
   "mimetype": "text/x-python",
   "name": "python",
   "nbconvert_exporter": "python",
   "pygments_lexer": "ipython3",
   "version": "3.9.12"
  }
 },
 "nbformat": 4,
 "nbformat_minor": 5
}
